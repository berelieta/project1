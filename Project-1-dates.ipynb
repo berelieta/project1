{
 "cells": [
  {
   "cell_type": "code",
   "execution_count": 136,
   "metadata": {},
   "outputs": [],
   "source": [
    "import matplotlib.pyplot as plt\n",
    "import pandas as pd\n",
    "import numpy as np\n",
    "import requests\n",
    "import time\n",
    "import scipy.stats as st\n",
    "import json\n",
    "import csv\n",
    "import zipfile\n",
    "from glob import glob\n",
    "import os\n",
    "import shutil\n",
    "import seaborn as sn\n",
    "%matplotlib inline"
   ]
  },
  {
   "cell_type": "code",
   "execution_count": 87,
   "metadata": {},
   "outputs": [
    {
     "data": {
      "text/plain": [
       "22141985"
      ]
     },
     "execution_count": 87,
     "metadata": {},
     "output_type": "execute_result"
    }
   ],
   "source": [
    "url = 'http://epidemiologia.salud.gob.mx/gobmx/salud/datos_abiertos/datos_abiertos_covid19.zip'\n",
    "r = requests.get(url, allow_redirects=True)\n",
    "open('BD.zip', 'wb').write(r.content)"
   ]
  },
  {
   "cell_type": "code",
   "execution_count": 88,
   "metadata": {},
   "outputs": [],
   "source": [
    "with zipfile.ZipFile('BD.zip', 'r') as zip_ref:\n",
    "    zip_ref.extractall('datatemp')"
   ]
  },
  {
   "cell_type": "code",
   "execution_count": 89,
   "metadata": {},
   "outputs": [],
   "source": [
    "filename = glob(\"datatemp/*.csv\")[0]"
   ]
  },
  {
   "cell_type": "code",
   "execution_count": 90,
   "metadata": {},
   "outputs": [],
   "source": [
    "df = pd.read_csv(filename, encoding = \"ISO-8859-1\")"
   ]
  },
  {
   "cell_type": "code",
   "execution_count": 91,
   "metadata": {},
   "outputs": [],
   "source": [
    "shutil.rmtree(\"datatemp\")\n",
    "os.remove('BD.zip')"
   ]
  },
  {
   "cell_type": "code",
   "execution_count": 92,
   "metadata": {},
   "outputs": [],
   "source": [
    "df = df.loc[(df['RESULTADO'] == 1)]"
   ]
  },
  {
   "cell_type": "code",
   "execution_count": 93,
   "metadata": {
    "scrolled": false
   },
   "outputs": [
    {
     "data": {
      "text/html": [
       "<div>\n",
       "<style scoped>\n",
       "    .dataframe tbody tr th:only-of-type {\n",
       "        vertical-align: middle;\n",
       "    }\n",
       "\n",
       "    .dataframe tbody tr th {\n",
       "        vertical-align: top;\n",
       "    }\n",
       "\n",
       "    .dataframe thead th {\n",
       "        text-align: right;\n",
       "    }\n",
       "</style>\n",
       "<table border=\"1\" class=\"dataframe\">\n",
       "  <thead>\n",
       "    <tr style=\"text-align: right;\">\n",
       "      <th></th>\n",
       "      <th>ID_REGISTRO</th>\n",
       "      <th>SEXO</th>\n",
       "      <th>ENTIDAD_RES</th>\n",
       "      <th>FECHA_INGRESO</th>\n",
       "      <th>FECHA_SINTOMAS</th>\n",
       "      <th>FECHA_DEF</th>\n",
       "      <th>NEUMONIA</th>\n",
       "      <th>EDAD</th>\n",
       "      <th>DIABETES</th>\n",
       "      <th>EPOC</th>\n",
       "      <th>ASMA</th>\n",
       "      <th>INMUSUPR</th>\n",
       "      <th>HIPERTENSION</th>\n",
       "      <th>CARDIOVASCULAR</th>\n",
       "      <th>OBESIDAD</th>\n",
       "      <th>RENAL_CRONICA</th>\n",
       "      <th>TABAQUISMO</th>\n",
       "    </tr>\n",
       "  </thead>\n",
       "  <tbody>\n",
       "    <tr>\n",
       "      <th>0</th>\n",
       "      <td>1241e1</td>\n",
       "      <td>2</td>\n",
       "      <td>15</td>\n",
       "      <td>2020-06-30</td>\n",
       "      <td>2020-06-22</td>\n",
       "      <td>9999-99-99</td>\n",
       "      <td>2</td>\n",
       "      <td>50</td>\n",
       "      <td>2</td>\n",
       "      <td>2</td>\n",
       "      <td>2</td>\n",
       "      <td>2</td>\n",
       "      <td>2</td>\n",
       "      <td>2</td>\n",
       "      <td>2</td>\n",
       "      <td>2</td>\n",
       "      <td>2</td>\n",
       "    </tr>\n",
       "    <tr>\n",
       "      <th>1</th>\n",
       "      <td>12d6d1</td>\n",
       "      <td>1</td>\n",
       "      <td>15</td>\n",
       "      <td>2020-04-24</td>\n",
       "      <td>2020-04-21</td>\n",
       "      <td>9999-99-99</td>\n",
       "      <td>2</td>\n",
       "      <td>52</td>\n",
       "      <td>2</td>\n",
       "      <td>2</td>\n",
       "      <td>2</td>\n",
       "      <td>2</td>\n",
       "      <td>2</td>\n",
       "      <td>2</td>\n",
       "      <td>1</td>\n",
       "      <td>2</td>\n",
       "      <td>2</td>\n",
       "    </tr>\n",
       "    <tr>\n",
       "      <th>2</th>\n",
       "      <td>05ab01</td>\n",
       "      <td>2</td>\n",
       "      <td>27</td>\n",
       "      <td>2020-06-16</td>\n",
       "      <td>2020-06-06</td>\n",
       "      <td>9999-99-99</td>\n",
       "      <td>2</td>\n",
       "      <td>16</td>\n",
       "      <td>2</td>\n",
       "      <td>2</td>\n",
       "      <td>2</td>\n",
       "      <td>2</td>\n",
       "      <td>2</td>\n",
       "      <td>2</td>\n",
       "      <td>2</td>\n",
       "      <td>2</td>\n",
       "      <td>2</td>\n",
       "    </tr>\n",
       "    <tr>\n",
       "      <th>3</th>\n",
       "      <td>08398c</td>\n",
       "      <td>2</td>\n",
       "      <td>27</td>\n",
       "      <td>2020-06-23</td>\n",
       "      <td>2020-06-14</td>\n",
       "      <td>9999-99-99</td>\n",
       "      <td>2</td>\n",
       "      <td>27</td>\n",
       "      <td>2</td>\n",
       "      <td>2</td>\n",
       "      <td>2</td>\n",
       "      <td>2</td>\n",
       "      <td>2</td>\n",
       "      <td>2</td>\n",
       "      <td>2</td>\n",
       "      <td>2</td>\n",
       "      <td>2</td>\n",
       "    </tr>\n",
       "    <tr>\n",
       "      <th>4</th>\n",
       "      <td>174902</td>\n",
       "      <td>2</td>\n",
       "      <td>31</td>\n",
       "      <td>2020-04-17</td>\n",
       "      <td>2020-04-11</td>\n",
       "      <td>2020-04-21</td>\n",
       "      <td>1</td>\n",
       "      <td>56</td>\n",
       "      <td>2</td>\n",
       "      <td>2</td>\n",
       "      <td>2</td>\n",
       "      <td>2</td>\n",
       "      <td>1</td>\n",
       "      <td>2</td>\n",
       "      <td>1</td>\n",
       "      <td>2</td>\n",
       "      <td>2</td>\n",
       "    </tr>\n",
       "  </tbody>\n",
       "</table>\n",
       "</div>"
      ],
      "text/plain": [
       "  ID_REGISTRO  SEXO  ENTIDAD_RES FECHA_INGRESO FECHA_SINTOMAS   FECHA_DEF  \\\n",
       "0      1241e1     2           15    2020-06-30     2020-06-22  9999-99-99   \n",
       "1      12d6d1     1           15    2020-04-24     2020-04-21  9999-99-99   \n",
       "2      05ab01     2           27    2020-06-16     2020-06-06  9999-99-99   \n",
       "3      08398c     2           27    2020-06-23     2020-06-14  9999-99-99   \n",
       "4      174902     2           31    2020-04-17     2020-04-11  2020-04-21   \n",
       "\n",
       "   NEUMONIA  EDAD  DIABETES  EPOC  ASMA  INMUSUPR  HIPERTENSION  \\\n",
       "0         2    50         2     2     2         2             2   \n",
       "1         2    52         2     2     2         2             2   \n",
       "2         2    16         2     2     2         2             2   \n",
       "3         2    27         2     2     2         2             2   \n",
       "4         1    56         2     2     2         2             1   \n",
       "\n",
       "   CARDIOVASCULAR  OBESIDAD  RENAL_CRONICA  TABAQUISMO  \n",
       "0               2         2              2           2  \n",
       "1               2         1              2           2  \n",
       "2               2         2              2           2  \n",
       "3               2         2              2           2  \n",
       "4               2         1              2           2  "
      ]
     },
     "execution_count": 93,
     "metadata": {},
     "output_type": "execute_result"
    }
   ],
   "source": [
    "df.drop(['FECHA_ACTUALIZACION', 'RESULTADO', 'PAIS_NACIONALIDAD', 'PAIS_ORIGEN', 'ORIGEN', 'SECTOR', 'ENTIDAD_UM', 'ENTIDAD_NAC', 'MUNICIPIO_RES', 'TIPO_PACIENTE','OTRO_CASO', 'MIGRANTE','UCI', 'NACIONALIDAD', 'EMBARAZO', 'HABLA_LENGUA_INDIG', 'INTUBADO', 'OTRA_COM'], axis=1, inplace=True)\n",
    "df.head()"
   ]
  },
  {
   "cell_type": "code",
   "execution_count": 94,
   "metadata": {},
   "outputs": [
    {
     "data": {
      "text/plain": [
       "ID_REGISTRO       49698\n",
       "SEXO              49698\n",
       "ENTIDAD_RES       49698\n",
       "FECHA_INGRESO     49698\n",
       "FECHA_SINTOMAS    49698\n",
       "NEUMONIA          49698\n",
       "EDAD              49698\n",
       "DIABETES          49698\n",
       "EPOC              49698\n",
       "ASMA              49698\n",
       "INMUSUPR          49698\n",
       "HIPERTENSION      49698\n",
       "CARDIOVASCULAR    49698\n",
       "OBESIDAD          49698\n",
       "RENAL_CRONICA     49698\n",
       "TABAQUISMO        49698\n",
       "dtype: int64"
      ]
     },
     "execution_count": 94,
     "metadata": {},
     "output_type": "execute_result"
    }
   ],
   "source": [
    "df_fall = df.set_index(\"FECHA_DEF\")\n",
    "df_fall = df_fall.drop([\"9999-99-99\"])\n",
    "df_fall.count()"
   ]
  },
  {
   "cell_type": "code",
   "execution_count": 95,
   "metadata": {},
   "outputs": [],
   "source": [
    "df_fall = df_fall.reset_index()"
   ]
  },
  {
   "cell_type": "code",
   "execution_count": 96,
   "metadata": {},
   "outputs": [
    {
     "data": {
      "text/html": [
       "<div>\n",
       "<style scoped>\n",
       "    .dataframe tbody tr th:only-of-type {\n",
       "        vertical-align: middle;\n",
       "    }\n",
       "\n",
       "    .dataframe tbody tr th {\n",
       "        vertical-align: top;\n",
       "    }\n",
       "\n",
       "    .dataframe thead th {\n",
       "        text-align: right;\n",
       "    }\n",
       "</style>\n",
       "<table border=\"1\" class=\"dataframe\">\n",
       "  <thead>\n",
       "    <tr style=\"text-align: right;\">\n",
       "      <th></th>\n",
       "      <th>FECHA_DEF</th>\n",
       "      <th>ID_REGISTRO</th>\n",
       "      <th>SEXO</th>\n",
       "      <th>ENTIDAD_RES</th>\n",
       "      <th>FECHA_INGRESO</th>\n",
       "      <th>FECHA_SINTOMAS</th>\n",
       "      <th>NEUMONIA</th>\n",
       "      <th>EDAD</th>\n",
       "      <th>DIABETES</th>\n",
       "      <th>EPOC</th>\n",
       "      <th>ASMA</th>\n",
       "      <th>INMUSUPR</th>\n",
       "      <th>HIPERTENSION</th>\n",
       "      <th>CARDIOVASCULAR</th>\n",
       "      <th>OBESIDAD</th>\n",
       "      <th>RENAL_CRONICA</th>\n",
       "      <th>TABAQUISMO</th>\n",
       "      <th>Sintomas a hospitalizacion</th>\n",
       "      <th>Sintomas a Defuncion</th>\n",
       "      <th>Hospitalizacion a Defuncion</th>\n",
       "    </tr>\n",
       "  </thead>\n",
       "  <tbody>\n",
       "    <tr>\n",
       "      <th>0</th>\n",
       "      <td>2020-04-21</td>\n",
       "      <td>174902</td>\n",
       "      <td>2</td>\n",
       "      <td>31</td>\n",
       "      <td>2020-04-17</td>\n",
       "      <td>2020-04-11</td>\n",
       "      <td>1</td>\n",
       "      <td>56</td>\n",
       "      <td>2</td>\n",
       "      <td>2</td>\n",
       "      <td>2</td>\n",
       "      <td>2</td>\n",
       "      <td>1</td>\n",
       "      <td>2</td>\n",
       "      <td>1</td>\n",
       "      <td>2</td>\n",
       "      <td>2</td>\n",
       "      <td></td>\n",
       "      <td></td>\n",
       "      <td></td>\n",
       "    </tr>\n",
       "    <tr>\n",
       "      <th>1</th>\n",
       "      <td>2020-05-05</td>\n",
       "      <td>00c2d6</td>\n",
       "      <td>1</td>\n",
       "      <td>9</td>\n",
       "      <td>2020-04-14</td>\n",
       "      <td>2020-04-10</td>\n",
       "      <td>1</td>\n",
       "      <td>15</td>\n",
       "      <td>2</td>\n",
       "      <td>2</td>\n",
       "      <td>2</td>\n",
       "      <td>2</td>\n",
       "      <td>2</td>\n",
       "      <td>2</td>\n",
       "      <td>1</td>\n",
       "      <td>2</td>\n",
       "      <td>2</td>\n",
       "      <td></td>\n",
       "      <td></td>\n",
       "      <td></td>\n",
       "    </tr>\n",
       "    <tr>\n",
       "      <th>2</th>\n",
       "      <td>2020-04-19</td>\n",
       "      <td>13e374</td>\n",
       "      <td>1</td>\n",
       "      <td>2</td>\n",
       "      <td>2020-04-18</td>\n",
       "      <td>2020-04-12</td>\n",
       "      <td>1</td>\n",
       "      <td>50</td>\n",
       "      <td>1</td>\n",
       "      <td>2</td>\n",
       "      <td>2</td>\n",
       "      <td>2</td>\n",
       "      <td>1</td>\n",
       "      <td>2</td>\n",
       "      <td>1</td>\n",
       "      <td>2</td>\n",
       "      <td>2</td>\n",
       "      <td></td>\n",
       "      <td></td>\n",
       "      <td></td>\n",
       "    </tr>\n",
       "    <tr>\n",
       "      <th>3</th>\n",
       "      <td>2020-04-05</td>\n",
       "      <td>0ea851</td>\n",
       "      <td>1</td>\n",
       "      <td>15</td>\n",
       "      <td>2020-04-05</td>\n",
       "      <td>2020-04-05</td>\n",
       "      <td>1</td>\n",
       "      <td>70</td>\n",
       "      <td>2</td>\n",
       "      <td>2</td>\n",
       "      <td>2</td>\n",
       "      <td>2</td>\n",
       "      <td>2</td>\n",
       "      <td>2</td>\n",
       "      <td>2</td>\n",
       "      <td>2</td>\n",
       "      <td>2</td>\n",
       "      <td></td>\n",
       "      <td></td>\n",
       "      <td></td>\n",
       "    </tr>\n",
       "    <tr>\n",
       "      <th>4</th>\n",
       "      <td>2020-05-14</td>\n",
       "      <td>0aa887</td>\n",
       "      <td>1</td>\n",
       "      <td>9</td>\n",
       "      <td>2020-05-09</td>\n",
       "      <td>2020-04-28</td>\n",
       "      <td>2</td>\n",
       "      <td>78</td>\n",
       "      <td>1</td>\n",
       "      <td>2</td>\n",
       "      <td>2</td>\n",
       "      <td>2</td>\n",
       "      <td>2</td>\n",
       "      <td>2</td>\n",
       "      <td>2</td>\n",
       "      <td>2</td>\n",
       "      <td>2</td>\n",
       "      <td></td>\n",
       "      <td></td>\n",
       "      <td></td>\n",
       "    </tr>\n",
       "  </tbody>\n",
       "</table>\n",
       "</div>"
      ],
      "text/plain": [
       "    FECHA_DEF ID_REGISTRO  SEXO  ENTIDAD_RES FECHA_INGRESO FECHA_SINTOMAS  \\\n",
       "0  2020-04-21      174902     2           31    2020-04-17     2020-04-11   \n",
       "1  2020-05-05      00c2d6     1            9    2020-04-14     2020-04-10   \n",
       "2  2020-04-19      13e374     1            2    2020-04-18     2020-04-12   \n",
       "3  2020-04-05      0ea851     1           15    2020-04-05     2020-04-05   \n",
       "4  2020-05-14      0aa887     1            9    2020-05-09     2020-04-28   \n",
       "\n",
       "   NEUMONIA  EDAD  DIABETES  EPOC  ASMA  INMUSUPR  HIPERTENSION  \\\n",
       "0         1    56         2     2     2         2             1   \n",
       "1         1    15         2     2     2         2             2   \n",
       "2         1    50         1     2     2         2             1   \n",
       "3         1    70         2     2     2         2             2   \n",
       "4         2    78         1     2     2         2             2   \n",
       "\n",
       "   CARDIOVASCULAR  OBESIDAD  RENAL_CRONICA  TABAQUISMO  \\\n",
       "0               2         1              2           2   \n",
       "1               2         1              2           2   \n",
       "2               2         1              2           2   \n",
       "3               2         2              2           2   \n",
       "4               2         2              2           2   \n",
       "\n",
       "  Sintomas a hospitalizacion Sintomas a Defuncion Hospitalizacion a Defuncion  \n",
       "0                                                                              \n",
       "1                                                                              \n",
       "2                                                                              \n",
       "3                                                                              \n",
       "4                                                                              "
      ]
     },
     "execution_count": 96,
     "metadata": {},
     "output_type": "execute_result"
    }
   ],
   "source": [
    "df_fall[\"Sintomas a hospitalizacion\"] = \"\"\n",
    "df_fall[\"Sintomas a Defuncion\"] = \"\"\n",
    "df_fall[\"Hospitalizacion a Defuncion\"] =\"\"\n",
    "df_fall.head()"
   ]
  },
  {
   "cell_type": "code",
   "execution_count": 97,
   "metadata": {},
   "outputs": [
    {
     "data": {
      "text/plain": [
       "FECHA_DEF                      datetime64[ns]\n",
       "ID_REGISTRO                            object\n",
       "SEXO                                    int64\n",
       "ENTIDAD_RES                             int64\n",
       "FECHA_INGRESO                  datetime64[ns]\n",
       "FECHA_SINTOMAS                 datetime64[ns]\n",
       "NEUMONIA                                int64\n",
       "EDAD                                    int64\n",
       "DIABETES                                int64\n",
       "EPOC                                    int64\n",
       "ASMA                                    int64\n",
       "INMUSUPR                                int64\n",
       "HIPERTENSION                            int64\n",
       "CARDIOVASCULAR                          int64\n",
       "OBESIDAD                                int64\n",
       "RENAL_CRONICA                           int64\n",
       "TABAQUISMO                              int64\n",
       "Sintomas a hospitalizacion     datetime64[ns]\n",
       "Sintomas a Defuncion           datetime64[ns]\n",
       "Hospitalizacion a Defuncion    datetime64[ns]\n",
       "dtype: object"
      ]
     },
     "execution_count": 97,
     "metadata": {},
     "output_type": "execute_result"
    }
   ],
   "source": [
    "df_fall['FECHA_DEF'] = pd.to_datetime(df_fall['FECHA_DEF'])\n",
    "df_fall['FECHA_INGRESO'] = pd.to_datetime(df_fall['FECHA_INGRESO'])\n",
    "df_fall['FECHA_SINTOMAS'] = pd.to_datetime(df_fall['FECHA_SINTOMAS'])\n",
    "df_fall[\"Sintomas a Defuncion\"] = pd.to_datetime(df_fall[\"Sintomas a Defuncion\"])\n",
    "df_fall[\"Sintomas a hospitalizacion\"] = pd.to_datetime(df_fall[\"Sintomas a hospitalizacion\"])\n",
    "df_fall[\"Hospitalizacion a Defuncion\"] = pd.to_datetime(df_fall[\"Hospitalizacion a Defuncion\"])\n",
    "df_fall.dtypes"
   ]
  },
  {
   "cell_type": "code",
   "execution_count": 98,
   "metadata": {},
   "outputs": [
    {
     "data": {
      "text/html": [
       "<div>\n",
       "<style scoped>\n",
       "    .dataframe tbody tr th:only-of-type {\n",
       "        vertical-align: middle;\n",
       "    }\n",
       "\n",
       "    .dataframe tbody tr th {\n",
       "        vertical-align: top;\n",
       "    }\n",
       "\n",
       "    .dataframe thead th {\n",
       "        text-align: right;\n",
       "    }\n",
       "</style>\n",
       "<table border=\"1\" class=\"dataframe\">\n",
       "  <thead>\n",
       "    <tr style=\"text-align: right;\">\n",
       "      <th></th>\n",
       "      <th>FECHA_DEF</th>\n",
       "      <th>ID_REGISTRO</th>\n",
       "      <th>SEXO</th>\n",
       "      <th>ENTIDAD_RES</th>\n",
       "      <th>FECHA_INGRESO</th>\n",
       "      <th>FECHA_SINTOMAS</th>\n",
       "      <th>NEUMONIA</th>\n",
       "      <th>EDAD</th>\n",
       "      <th>DIABETES</th>\n",
       "      <th>EPOC</th>\n",
       "      <th>ASMA</th>\n",
       "      <th>INMUSUPR</th>\n",
       "      <th>HIPERTENSION</th>\n",
       "      <th>CARDIOVASCULAR</th>\n",
       "      <th>OBESIDAD</th>\n",
       "      <th>RENAL_CRONICA</th>\n",
       "      <th>TABAQUISMO</th>\n",
       "      <th>Sintomas a hospitalizacion</th>\n",
       "      <th>Sintomas a Defuncion</th>\n",
       "      <th>Hospitalizacion a Defuncion</th>\n",
       "    </tr>\n",
       "  </thead>\n",
       "  <tbody>\n",
       "    <tr>\n",
       "      <th>0</th>\n",
       "      <td>2020-04-21</td>\n",
       "      <td>174902</td>\n",
       "      <td>2</td>\n",
       "      <td>31</td>\n",
       "      <td>2020-04-17</td>\n",
       "      <td>2020-04-11</td>\n",
       "      <td>1</td>\n",
       "      <td>56</td>\n",
       "      <td>2</td>\n",
       "      <td>2</td>\n",
       "      <td>2</td>\n",
       "      <td>2</td>\n",
       "      <td>1</td>\n",
       "      <td>2</td>\n",
       "      <td>1</td>\n",
       "      <td>2</td>\n",
       "      <td>2</td>\n",
       "      <td>6</td>\n",
       "      <td>10</td>\n",
       "      <td>4</td>\n",
       "    </tr>\n",
       "    <tr>\n",
       "      <th>1</th>\n",
       "      <td>2020-05-05</td>\n",
       "      <td>00c2d6</td>\n",
       "      <td>1</td>\n",
       "      <td>9</td>\n",
       "      <td>2020-04-14</td>\n",
       "      <td>2020-04-10</td>\n",
       "      <td>1</td>\n",
       "      <td>15</td>\n",
       "      <td>2</td>\n",
       "      <td>2</td>\n",
       "      <td>2</td>\n",
       "      <td>2</td>\n",
       "      <td>2</td>\n",
       "      <td>2</td>\n",
       "      <td>1</td>\n",
       "      <td>2</td>\n",
       "      <td>2</td>\n",
       "      <td>4</td>\n",
       "      <td>25</td>\n",
       "      <td>21</td>\n",
       "    </tr>\n",
       "    <tr>\n",
       "      <th>2</th>\n",
       "      <td>2020-04-19</td>\n",
       "      <td>13e374</td>\n",
       "      <td>1</td>\n",
       "      <td>2</td>\n",
       "      <td>2020-04-18</td>\n",
       "      <td>2020-04-12</td>\n",
       "      <td>1</td>\n",
       "      <td>50</td>\n",
       "      <td>1</td>\n",
       "      <td>2</td>\n",
       "      <td>2</td>\n",
       "      <td>2</td>\n",
       "      <td>1</td>\n",
       "      <td>2</td>\n",
       "      <td>1</td>\n",
       "      <td>2</td>\n",
       "      <td>2</td>\n",
       "      <td>6</td>\n",
       "      <td>7</td>\n",
       "      <td>1</td>\n",
       "    </tr>\n",
       "    <tr>\n",
       "      <th>3</th>\n",
       "      <td>2020-04-05</td>\n",
       "      <td>0ea851</td>\n",
       "      <td>1</td>\n",
       "      <td>15</td>\n",
       "      <td>2020-04-05</td>\n",
       "      <td>2020-04-05</td>\n",
       "      <td>1</td>\n",
       "      <td>70</td>\n",
       "      <td>2</td>\n",
       "      <td>2</td>\n",
       "      <td>2</td>\n",
       "      <td>2</td>\n",
       "      <td>2</td>\n",
       "      <td>2</td>\n",
       "      <td>2</td>\n",
       "      <td>2</td>\n",
       "      <td>2</td>\n",
       "      <td>0</td>\n",
       "      <td>0</td>\n",
       "      <td>0</td>\n",
       "    </tr>\n",
       "    <tr>\n",
       "      <th>4</th>\n",
       "      <td>2020-05-14</td>\n",
       "      <td>0aa887</td>\n",
       "      <td>1</td>\n",
       "      <td>9</td>\n",
       "      <td>2020-05-09</td>\n",
       "      <td>2020-04-28</td>\n",
       "      <td>2</td>\n",
       "      <td>78</td>\n",
       "      <td>1</td>\n",
       "      <td>2</td>\n",
       "      <td>2</td>\n",
       "      <td>2</td>\n",
       "      <td>2</td>\n",
       "      <td>2</td>\n",
       "      <td>2</td>\n",
       "      <td>2</td>\n",
       "      <td>2</td>\n",
       "      <td>11</td>\n",
       "      <td>16</td>\n",
       "      <td>5</td>\n",
       "    </tr>\n",
       "  </tbody>\n",
       "</table>\n",
       "</div>"
      ],
      "text/plain": [
       "   FECHA_DEF ID_REGISTRO  SEXO  ENTIDAD_RES FECHA_INGRESO FECHA_SINTOMAS  \\\n",
       "0 2020-04-21      174902     2           31    2020-04-17     2020-04-11   \n",
       "1 2020-05-05      00c2d6     1            9    2020-04-14     2020-04-10   \n",
       "2 2020-04-19      13e374     1            2    2020-04-18     2020-04-12   \n",
       "3 2020-04-05      0ea851     1           15    2020-04-05     2020-04-05   \n",
       "4 2020-05-14      0aa887     1            9    2020-05-09     2020-04-28   \n",
       "\n",
       "   NEUMONIA  EDAD  DIABETES  EPOC  ASMA  INMUSUPR  HIPERTENSION  \\\n",
       "0         1    56         2     2     2         2             1   \n",
       "1         1    15         2     2     2         2             2   \n",
       "2         1    50         1     2     2         2             1   \n",
       "3         1    70         2     2     2         2             2   \n",
       "4         2    78         1     2     2         2             2   \n",
       "\n",
       "   CARDIOVASCULAR  OBESIDAD  RENAL_CRONICA  TABAQUISMO  \\\n",
       "0               2         1              2           2   \n",
       "1               2         1              2           2   \n",
       "2               2         1              2           2   \n",
       "3               2         2              2           2   \n",
       "4               2         2              2           2   \n",
       "\n",
       "   Sintomas a hospitalizacion  Sintomas a Defuncion  \\\n",
       "0                           6                    10   \n",
       "1                           4                    25   \n",
       "2                           6                     7   \n",
       "3                           0                     0   \n",
       "4                          11                    16   \n",
       "\n",
       "   Hospitalizacion a Defuncion  \n",
       "0                            4  \n",
       "1                           21  \n",
       "2                            1  \n",
       "3                            0  \n",
       "4                            5  "
      ]
     },
     "execution_count": 98,
     "metadata": {},
     "output_type": "execute_result"
    }
   ],
   "source": [
    "df_fall[\"Sintomas a hospitalizacion\"] = (df_fall['FECHA_INGRESO'] - df_fall['FECHA_SINTOMAS']).dt.days\n",
    "df_fall[\"Sintomas a Defuncion\"] = (df_fall['FECHA_DEF'] - df_fall['FECHA_SINTOMAS']).dt.days\n",
    "df_fall[\"Hospitalizacion a Defuncion\"] = (df_fall['FECHA_DEF'] - df_fall['FECHA_INGRESO']).dt.days\n",
    "\n",
    "df_fall.head()"
   ]
  },
  {
   "cell_type": "code",
   "execution_count": 99,
   "metadata": {},
   "outputs": [],
   "source": [
    "df_fall[\"SEXO\"].replace({2: \"Hombre\", 1: \"Mujer\"}, inplace=True)"
   ]
  },
  {
   "cell_type": "code",
   "execution_count": 100,
   "metadata": {},
   "outputs": [],
   "source": [
    "df_fall[\"ENTIDAD_RES\"].replace({1 : \"AGUASCALIENTES\",\n",
    "2 : \"BAJA CALIFORNIA\",\n",
    "3 : \"BAJA CALIFORNIA SUR\",\n",
    "4 : \"CAMPECHE\",\n",
    "5 : \"COAHUILA DE ZARAGOZA\",\n",
    "6 : \"COLIMA\",\n",
    "7 : \"CHIAPAS\",\n",
    "8 : \"CHIHUAHUA\",\n",
    "9 : \"CIUDAD DE MÉXICO\",\n",
    "10 : \"DURANGO\",\n",
    "11 : \"GUANAJUATO\",\n",
    "12 : \"GUERRERO\",\n",
    "13 : \"HIDALGO\",\n",
    "14 : \"JALISCO\",\n",
    "15 : \"MEXICO\",\n",
    "16 : \"MICHOACAN DE OCAMPO\",\n",
    "17 : \"MORELOS\",\n",
    "18 : \"NAYARIT\",\n",
    "19 : \"NUEVO LEON\",\n",
    "20 : \"OAXACA\",\n",
    "21 : \"PUEBLA\",\n",
    "22 : \"QUERETARO\",\n",
    "23 : \"QUINTANA ROO\",\n",
    "24 : \"SAN LUIS POTOSI\",\n",
    "25 : \"SINALOA\",\n",
    "26 : \"SONORA\",\n",
    "27 : \"TABASCO\",\n",
    "28 : \"TAMAULIPAS\",\n",
    "29 : \"TLAXCALA\",\n",
    "30 : \"VERACRUZ DE IGNACIO DE LA LLAVE\",\n",
    "31 : \"YUCATAN\",\n",
    "32 : \"ZACATECAS\",\n",
    "88 : \"NO APLICA\",\n",
    "99 : \"SE IGNORA\"}, inplace=True)"
   ]
  },
  {
   "cell_type": "code",
   "execution_count": 101,
   "metadata": {},
   "outputs": [],
   "source": [
    "df_fall[\"NEUMONIA\"].replace({2: \"NO\", 1: \"SI\", 97 : \"NO APLICA\", 98 : \"SE IGNORA\", 99 : \"NO ESPECIFICADO\"}, inplace=True)\n",
    "df_fall[\"DIABETES\"].replace({2: \"NO\", 1: \"SI\", 97 : \"NO APLICA\", 98 : \"SE IGNORA\", 99 : \"NO ESPECIFICADO\"}, inplace=True)\n",
    "df_fall[\"ASMA\"].replace({2: \"NO\", 1: \"SI\", 97 : \"NO APLICA\", 98 : \"SE IGNORA\", 99 : \"NO ESPECIFICADO\"}, inplace=True)\n",
    "df_fall[\"EPOC\"].replace({2: \"NO\", 1: \"SI\", 97 : \"NO APLICA\", 98 : \"SE IGNORA\", 99 : \"NO ESPECIFICADO\"}, inplace=True)\n",
    "df_fall[\"INMUSUPR\"].replace({2: \"NO\", 1: \"SI\", 97 : \"NO APLICA\", 98 : \"SE IGNORA\", 99 : \"NO ESPECIFICADO\"}, inplace=True)\n",
    "df_fall[\"HIPERTENSION\"].replace({2: \"NO\", 1: \"SI\", 97 : \"NO APLICA\", 98 : \"SE IGNORA\", 99 : \"NO ESPECIFICADO\"}, inplace=True)\n",
    "df_fall[\"CARDIOVASCULAR\"].replace({2: \"NO\", 1: \"SI\", 97 : \"NO APLICA\", 98 : \"SE IGNORA\", 99 : \"NO ESPECIFICADO\"}, inplace=True)\n",
    "df_fall[\"OBESIDAD\"].replace({2: \"NO\", 1: \"SI\", 97 : \"NO APLICA\", 98 : \"SE IGNORA\", 99 : \"NO ESPECIFICADO\"}, inplace=True)\n",
    "df_fall[\"RENAL_CRONICA\"].replace({2: \"NO\", 1: \"SI\", 97 : \"NO APLICA\", 98 : \"SE IGNORA\", 99 : \"NO ESPECIFICADO\"}, inplace=True)\n",
    "df_fall[\"TABAQUISMO\"].replace({2: \"NO\", 1: \"SI\", 97 : \"NO APLICA\", 98 : \"SE IGNORA\", 99 : \"NO ESPECIFICADO\"}, inplace=True)"
   ]
  },
  {
   "cell_type": "code",
   "execution_count": 102,
   "metadata": {
    "scrolled": false
   },
   "outputs": [
    {
     "data": {
      "text/html": [
       "<div>\n",
       "<style scoped>\n",
       "    .dataframe tbody tr th:only-of-type {\n",
       "        vertical-align: middle;\n",
       "    }\n",
       "\n",
       "    .dataframe tbody tr th {\n",
       "        vertical-align: top;\n",
       "    }\n",
       "\n",
       "    .dataframe thead th {\n",
       "        text-align: right;\n",
       "    }\n",
       "</style>\n",
       "<table border=\"1\" class=\"dataframe\">\n",
       "  <thead>\n",
       "    <tr style=\"text-align: right;\">\n",
       "      <th></th>\n",
       "      <th>FECHA_DEF</th>\n",
       "      <th>ID_REGISTRO</th>\n",
       "      <th>SEXO</th>\n",
       "      <th>ENTIDAD_RES</th>\n",
       "      <th>FECHA_INGRESO</th>\n",
       "      <th>FECHA_SINTOMAS</th>\n",
       "      <th>NEUMONIA</th>\n",
       "      <th>EDAD</th>\n",
       "      <th>DIABETES</th>\n",
       "      <th>EPOC</th>\n",
       "      <th>ASMA</th>\n",
       "      <th>INMUSUPR</th>\n",
       "      <th>HIPERTENSION</th>\n",
       "      <th>CARDIOVASCULAR</th>\n",
       "      <th>OBESIDAD</th>\n",
       "      <th>RENAL_CRONICA</th>\n",
       "      <th>TABAQUISMO</th>\n",
       "      <th>Sintomas a hospitalizacion</th>\n",
       "      <th>Sintomas a Defuncion</th>\n",
       "      <th>Hospitalizacion a Defuncion</th>\n",
       "    </tr>\n",
       "  </thead>\n",
       "  <tbody>\n",
       "    <tr>\n",
       "      <th>0</th>\n",
       "      <td>2020-04-21</td>\n",
       "      <td>174902</td>\n",
       "      <td>Hombre</td>\n",
       "      <td>YUCATAN</td>\n",
       "      <td>2020-04-17</td>\n",
       "      <td>2020-04-11</td>\n",
       "      <td>SI</td>\n",
       "      <td>56</td>\n",
       "      <td>NO</td>\n",
       "      <td>NO</td>\n",
       "      <td>NO</td>\n",
       "      <td>NO</td>\n",
       "      <td>SI</td>\n",
       "      <td>NO</td>\n",
       "      <td>SI</td>\n",
       "      <td>NO</td>\n",
       "      <td>NO</td>\n",
       "      <td>6</td>\n",
       "      <td>10</td>\n",
       "      <td>4</td>\n",
       "    </tr>\n",
       "    <tr>\n",
       "      <th>1</th>\n",
       "      <td>2020-05-05</td>\n",
       "      <td>00c2d6</td>\n",
       "      <td>Mujer</td>\n",
       "      <td>CIUDAD DE MÉXICO</td>\n",
       "      <td>2020-04-14</td>\n",
       "      <td>2020-04-10</td>\n",
       "      <td>SI</td>\n",
       "      <td>15</td>\n",
       "      <td>NO</td>\n",
       "      <td>NO</td>\n",
       "      <td>NO</td>\n",
       "      <td>NO</td>\n",
       "      <td>NO</td>\n",
       "      <td>NO</td>\n",
       "      <td>SI</td>\n",
       "      <td>NO</td>\n",
       "      <td>NO</td>\n",
       "      <td>4</td>\n",
       "      <td>25</td>\n",
       "      <td>21</td>\n",
       "    </tr>\n",
       "    <tr>\n",
       "      <th>2</th>\n",
       "      <td>2020-04-19</td>\n",
       "      <td>13e374</td>\n",
       "      <td>Mujer</td>\n",
       "      <td>BAJA CALIFORNIA</td>\n",
       "      <td>2020-04-18</td>\n",
       "      <td>2020-04-12</td>\n",
       "      <td>SI</td>\n",
       "      <td>50</td>\n",
       "      <td>SI</td>\n",
       "      <td>NO</td>\n",
       "      <td>NO</td>\n",
       "      <td>NO</td>\n",
       "      <td>SI</td>\n",
       "      <td>NO</td>\n",
       "      <td>SI</td>\n",
       "      <td>NO</td>\n",
       "      <td>NO</td>\n",
       "      <td>6</td>\n",
       "      <td>7</td>\n",
       "      <td>1</td>\n",
       "    </tr>\n",
       "    <tr>\n",
       "      <th>3</th>\n",
       "      <td>2020-04-05</td>\n",
       "      <td>0ea851</td>\n",
       "      <td>Mujer</td>\n",
       "      <td>MEXICO</td>\n",
       "      <td>2020-04-05</td>\n",
       "      <td>2020-04-05</td>\n",
       "      <td>SI</td>\n",
       "      <td>70</td>\n",
       "      <td>NO</td>\n",
       "      <td>NO</td>\n",
       "      <td>NO</td>\n",
       "      <td>NO</td>\n",
       "      <td>NO</td>\n",
       "      <td>NO</td>\n",
       "      <td>NO</td>\n",
       "      <td>NO</td>\n",
       "      <td>NO</td>\n",
       "      <td>0</td>\n",
       "      <td>0</td>\n",
       "      <td>0</td>\n",
       "    </tr>\n",
       "    <tr>\n",
       "      <th>4</th>\n",
       "      <td>2020-05-14</td>\n",
       "      <td>0aa887</td>\n",
       "      <td>Mujer</td>\n",
       "      <td>CIUDAD DE MÉXICO</td>\n",
       "      <td>2020-05-09</td>\n",
       "      <td>2020-04-28</td>\n",
       "      <td>NO</td>\n",
       "      <td>78</td>\n",
       "      <td>SI</td>\n",
       "      <td>NO</td>\n",
       "      <td>NO</td>\n",
       "      <td>NO</td>\n",
       "      <td>NO</td>\n",
       "      <td>NO</td>\n",
       "      <td>NO</td>\n",
       "      <td>NO</td>\n",
       "      <td>NO</td>\n",
       "      <td>11</td>\n",
       "      <td>16</td>\n",
       "      <td>5</td>\n",
       "    </tr>\n",
       "  </tbody>\n",
       "</table>\n",
       "</div>"
      ],
      "text/plain": [
       "   FECHA_DEF ID_REGISTRO    SEXO       ENTIDAD_RES FECHA_INGRESO  \\\n",
       "0 2020-04-21      174902  Hombre           YUCATAN    2020-04-17   \n",
       "1 2020-05-05      00c2d6   Mujer  CIUDAD DE MÉXICO    2020-04-14   \n",
       "2 2020-04-19      13e374   Mujer   BAJA CALIFORNIA    2020-04-18   \n",
       "3 2020-04-05      0ea851   Mujer            MEXICO    2020-04-05   \n",
       "4 2020-05-14      0aa887   Mujer  CIUDAD DE MÉXICO    2020-05-09   \n",
       "\n",
       "  FECHA_SINTOMAS NEUMONIA  EDAD DIABETES EPOC ASMA INMUSUPR HIPERTENSION  \\\n",
       "0     2020-04-11       SI    56       NO   NO   NO       NO           SI   \n",
       "1     2020-04-10       SI    15       NO   NO   NO       NO           NO   \n",
       "2     2020-04-12       SI    50       SI   NO   NO       NO           SI   \n",
       "3     2020-04-05       SI    70       NO   NO   NO       NO           NO   \n",
       "4     2020-04-28       NO    78       SI   NO   NO       NO           NO   \n",
       "\n",
       "  CARDIOVASCULAR OBESIDAD RENAL_CRONICA TABAQUISMO  \\\n",
       "0             NO       SI            NO         NO   \n",
       "1             NO       SI            NO         NO   \n",
       "2             NO       SI            NO         NO   \n",
       "3             NO       NO            NO         NO   \n",
       "4             NO       NO            NO         NO   \n",
       "\n",
       "   Sintomas a hospitalizacion  Sintomas a Defuncion  \\\n",
       "0                           6                    10   \n",
       "1                           4                    25   \n",
       "2                           6                     7   \n",
       "3                           0                     0   \n",
       "4                          11                    16   \n",
       "\n",
       "   Hospitalizacion a Defuncion  \n",
       "0                            4  \n",
       "1                           21  \n",
       "2                            1  \n",
       "3                            0  \n",
       "4                            5  "
      ]
     },
     "execution_count": 102,
     "metadata": {},
     "output_type": "execute_result"
    }
   ],
   "source": [
    "df_fall.head()"
   ]
  },
  {
   "cell_type": "code",
   "execution_count": 103,
   "metadata": {},
   "outputs": [
    {
     "data": {
      "text/plain": [
       "FECHA_DEF                      49698\n",
       "ID_REGISTRO                    49698\n",
       "SEXO                           49698\n",
       "ENTIDAD_RES                    49698\n",
       "FECHA_INGRESO                  49698\n",
       "FECHA_SINTOMAS                 49698\n",
       "NEUMONIA                       49698\n",
       "EDAD                           49698\n",
       "DIABETES                       49698\n",
       "EPOC                           49698\n",
       "ASMA                           49698\n",
       "INMUSUPR                       49698\n",
       "HIPERTENSION                   49698\n",
       "CARDIOVASCULAR                 49698\n",
       "OBESIDAD                       49698\n",
       "RENAL_CRONICA                  49698\n",
       "TABAQUISMO                     49698\n",
       "Sintomas a hospitalizacion     49698\n",
       "Sintomas a Defuncion           49698\n",
       "Hospitalizacion a Defuncion    49698\n",
       "dtype: int64"
      ]
     },
     "execution_count": 103,
     "metadata": {},
     "output_type": "execute_result"
    }
   ],
   "source": [
    "#data = \"final_luis.csv\"\n",
    "#data_df = pd.read_csv(data)\n",
    "df_fall.count()"
   ]
  },
  {
   "cell_type": "code",
   "execution_count": 104,
   "metadata": {},
   "outputs": [
    {
     "data": {
      "text/html": [
       "<div>\n",
       "<style scoped>\n",
       "    .dataframe tbody tr th:only-of-type {\n",
       "        vertical-align: middle;\n",
       "    }\n",
       "\n",
       "    .dataframe tbody tr th {\n",
       "        vertical-align: top;\n",
       "    }\n",
       "\n",
       "    .dataframe thead th {\n",
       "        text-align: right;\n",
       "    }\n",
       "</style>\n",
       "<table border=\"1\" class=\"dataframe\">\n",
       "  <thead>\n",
       "    <tr style=\"text-align: right;\">\n",
       "      <th></th>\n",
       "      <th>ID_REGISTRO</th>\n",
       "      <th>SEXO</th>\n",
       "      <th>ENTIDAD_RES</th>\n",
       "      <th>NEUMONIA</th>\n",
       "      <th>EDAD</th>\n",
       "      <th>DIABETES</th>\n",
       "      <th>EPOC</th>\n",
       "      <th>ASMA</th>\n",
       "      <th>INMUSUPR</th>\n",
       "      <th>HIPERTENSION</th>\n",
       "      <th>CARDIOVASCULAR</th>\n",
       "      <th>OBESIDAD</th>\n",
       "      <th>RENAL_CRONICA</th>\n",
       "      <th>TABAQUISMO</th>\n",
       "      <th>Sintomas a hospitalizacion</th>\n",
       "      <th>Sintomas a Defuncion</th>\n",
       "      <th>Hospitalizacion a Defuncion</th>\n",
       "    </tr>\n",
       "  </thead>\n",
       "  <tbody>\n",
       "    <tr>\n",
       "      <th>0</th>\n",
       "      <td>174902</td>\n",
       "      <td>Hombre</td>\n",
       "      <td>YUCATAN</td>\n",
       "      <td>SI</td>\n",
       "      <td>56</td>\n",
       "      <td>NO</td>\n",
       "      <td>NO</td>\n",
       "      <td>NO</td>\n",
       "      <td>NO</td>\n",
       "      <td>SI</td>\n",
       "      <td>NO</td>\n",
       "      <td>SI</td>\n",
       "      <td>NO</td>\n",
       "      <td>NO</td>\n",
       "      <td>6</td>\n",
       "      <td>10</td>\n",
       "      <td>4</td>\n",
       "    </tr>\n",
       "    <tr>\n",
       "      <th>1</th>\n",
       "      <td>00c2d6</td>\n",
       "      <td>Mujer</td>\n",
       "      <td>CIUDAD DE MÉXICO</td>\n",
       "      <td>SI</td>\n",
       "      <td>15</td>\n",
       "      <td>NO</td>\n",
       "      <td>NO</td>\n",
       "      <td>NO</td>\n",
       "      <td>NO</td>\n",
       "      <td>NO</td>\n",
       "      <td>NO</td>\n",
       "      <td>SI</td>\n",
       "      <td>NO</td>\n",
       "      <td>NO</td>\n",
       "      <td>4</td>\n",
       "      <td>25</td>\n",
       "      <td>21</td>\n",
       "    </tr>\n",
       "    <tr>\n",
       "      <th>2</th>\n",
       "      <td>13e374</td>\n",
       "      <td>Mujer</td>\n",
       "      <td>BAJA CALIFORNIA</td>\n",
       "      <td>SI</td>\n",
       "      <td>50</td>\n",
       "      <td>SI</td>\n",
       "      <td>NO</td>\n",
       "      <td>NO</td>\n",
       "      <td>NO</td>\n",
       "      <td>SI</td>\n",
       "      <td>NO</td>\n",
       "      <td>SI</td>\n",
       "      <td>NO</td>\n",
       "      <td>NO</td>\n",
       "      <td>6</td>\n",
       "      <td>7</td>\n",
       "      <td>1</td>\n",
       "    </tr>\n",
       "    <tr>\n",
       "      <th>3</th>\n",
       "      <td>0ea851</td>\n",
       "      <td>Mujer</td>\n",
       "      <td>MEXICO</td>\n",
       "      <td>SI</td>\n",
       "      <td>70</td>\n",
       "      <td>NO</td>\n",
       "      <td>NO</td>\n",
       "      <td>NO</td>\n",
       "      <td>NO</td>\n",
       "      <td>NO</td>\n",
       "      <td>NO</td>\n",
       "      <td>NO</td>\n",
       "      <td>NO</td>\n",
       "      <td>NO</td>\n",
       "      <td>0</td>\n",
       "      <td>0</td>\n",
       "      <td>0</td>\n",
       "    </tr>\n",
       "    <tr>\n",
       "      <th>4</th>\n",
       "      <td>0aa887</td>\n",
       "      <td>Mujer</td>\n",
       "      <td>CIUDAD DE MÉXICO</td>\n",
       "      <td>NO</td>\n",
       "      <td>78</td>\n",
       "      <td>SI</td>\n",
       "      <td>NO</td>\n",
       "      <td>NO</td>\n",
       "      <td>NO</td>\n",
       "      <td>NO</td>\n",
       "      <td>NO</td>\n",
       "      <td>NO</td>\n",
       "      <td>NO</td>\n",
       "      <td>NO</td>\n",
       "      <td>11</td>\n",
       "      <td>16</td>\n",
       "      <td>5</td>\n",
       "    </tr>\n",
       "    <tr>\n",
       "      <th>...</th>\n",
       "      <td>...</td>\n",
       "      <td>...</td>\n",
       "      <td>...</td>\n",
       "      <td>...</td>\n",
       "      <td>...</td>\n",
       "      <td>...</td>\n",
       "      <td>...</td>\n",
       "      <td>...</td>\n",
       "      <td>...</td>\n",
       "      <td>...</td>\n",
       "      <td>...</td>\n",
       "      <td>...</td>\n",
       "      <td>...</td>\n",
       "      <td>...</td>\n",
       "      <td>...</td>\n",
       "      <td>...</td>\n",
       "      <td>...</td>\n",
       "    </tr>\n",
       "    <tr>\n",
       "      <th>49693</th>\n",
       "      <td>0fdd3c</td>\n",
       "      <td>Hombre</td>\n",
       "      <td>SAN LUIS POTOSI</td>\n",
       "      <td>SI</td>\n",
       "      <td>35</td>\n",
       "      <td>NO</td>\n",
       "      <td>NO</td>\n",
       "      <td>NO</td>\n",
       "      <td>NO</td>\n",
       "      <td>NO</td>\n",
       "      <td>NO</td>\n",
       "      <td>NO</td>\n",
       "      <td>NO</td>\n",
       "      <td>SI</td>\n",
       "      <td>0</td>\n",
       "      <td>17</td>\n",
       "      <td>17</td>\n",
       "    </tr>\n",
       "    <tr>\n",
       "      <th>49694</th>\n",
       "      <td>141dac</td>\n",
       "      <td>Mujer</td>\n",
       "      <td>JALISCO</td>\n",
       "      <td>SI</td>\n",
       "      <td>39</td>\n",
       "      <td>NO</td>\n",
       "      <td>NO</td>\n",
       "      <td>NO</td>\n",
       "      <td>NO</td>\n",
       "      <td>NO</td>\n",
       "      <td>NO</td>\n",
       "      <td>NO</td>\n",
       "      <td>NO</td>\n",
       "      <td>NO</td>\n",
       "      <td>7</td>\n",
       "      <td>14</td>\n",
       "      <td>7</td>\n",
       "    </tr>\n",
       "    <tr>\n",
       "      <th>49695</th>\n",
       "      <td>14b471</td>\n",
       "      <td>Mujer</td>\n",
       "      <td>VERACRUZ DE IGNACIO DE LA LLAVE</td>\n",
       "      <td>SI</td>\n",
       "      <td>63</td>\n",
       "      <td>NO</td>\n",
       "      <td>NO</td>\n",
       "      <td>NO</td>\n",
       "      <td>NO</td>\n",
       "      <td>NO</td>\n",
       "      <td>NO</td>\n",
       "      <td>NO</td>\n",
       "      <td>NO</td>\n",
       "      <td>NO</td>\n",
       "      <td>2</td>\n",
       "      <td>7</td>\n",
       "      <td>5</td>\n",
       "    </tr>\n",
       "    <tr>\n",
       "      <th>49696</th>\n",
       "      <td>09e1ee</td>\n",
       "      <td>Mujer</td>\n",
       "      <td>TABASCO</td>\n",
       "      <td>SI</td>\n",
       "      <td>85</td>\n",
       "      <td>NO</td>\n",
       "      <td>NO</td>\n",
       "      <td>NO</td>\n",
       "      <td>NO</td>\n",
       "      <td>SI</td>\n",
       "      <td>SI</td>\n",
       "      <td>NO</td>\n",
       "      <td>NO</td>\n",
       "      <td>NO</td>\n",
       "      <td>5</td>\n",
       "      <td>9</td>\n",
       "      <td>4</td>\n",
       "    </tr>\n",
       "    <tr>\n",
       "      <th>49697</th>\n",
       "      <td>01f8ab</td>\n",
       "      <td>Mujer</td>\n",
       "      <td>GUANAJUATO</td>\n",
       "      <td>NO</td>\n",
       "      <td>54</td>\n",
       "      <td>NO</td>\n",
       "      <td>NO</td>\n",
       "      <td>NO</td>\n",
       "      <td>NO</td>\n",
       "      <td>NO</td>\n",
       "      <td>NO</td>\n",
       "      <td>NO</td>\n",
       "      <td>NO</td>\n",
       "      <td>NO</td>\n",
       "      <td>7</td>\n",
       "      <td>25</td>\n",
       "      <td>18</td>\n",
       "    </tr>\n",
       "  </tbody>\n",
       "</table>\n",
       "<p>49698 rows × 17 columns</p>\n",
       "</div>"
      ],
      "text/plain": [
       "      ID_REGISTRO    SEXO                      ENTIDAD_RES NEUMONIA  EDAD  \\\n",
       "0          174902  Hombre                          YUCATAN       SI    56   \n",
       "1          00c2d6   Mujer                 CIUDAD DE MÉXICO       SI    15   \n",
       "2          13e374   Mujer                  BAJA CALIFORNIA       SI    50   \n",
       "3          0ea851   Mujer                           MEXICO       SI    70   \n",
       "4          0aa887   Mujer                 CIUDAD DE MÉXICO       NO    78   \n",
       "...           ...     ...                              ...      ...   ...   \n",
       "49693      0fdd3c  Hombre                  SAN LUIS POTOSI       SI    35   \n",
       "49694      141dac   Mujer                          JALISCO       SI    39   \n",
       "49695      14b471   Mujer  VERACRUZ DE IGNACIO DE LA LLAVE       SI    63   \n",
       "49696      09e1ee   Mujer                          TABASCO       SI    85   \n",
       "49697      01f8ab   Mujer                       GUANAJUATO       NO    54   \n",
       "\n",
       "      DIABETES EPOC ASMA INMUSUPR HIPERTENSION CARDIOVASCULAR OBESIDAD  \\\n",
       "0           NO   NO   NO       NO           SI             NO       SI   \n",
       "1           NO   NO   NO       NO           NO             NO       SI   \n",
       "2           SI   NO   NO       NO           SI             NO       SI   \n",
       "3           NO   NO   NO       NO           NO             NO       NO   \n",
       "4           SI   NO   NO       NO           NO             NO       NO   \n",
       "...        ...  ...  ...      ...          ...            ...      ...   \n",
       "49693       NO   NO   NO       NO           NO             NO       NO   \n",
       "49694       NO   NO   NO       NO           NO             NO       NO   \n",
       "49695       NO   NO   NO       NO           NO             NO       NO   \n",
       "49696       NO   NO   NO       NO           SI             SI       NO   \n",
       "49697       NO   NO   NO       NO           NO             NO       NO   \n",
       "\n",
       "      RENAL_CRONICA TABAQUISMO  Sintomas a hospitalizacion  \\\n",
       "0                NO         NO                           6   \n",
       "1                NO         NO                           4   \n",
       "2                NO         NO                           6   \n",
       "3                NO         NO                           0   \n",
       "4                NO         NO                          11   \n",
       "...             ...        ...                         ...   \n",
       "49693            NO         SI                           0   \n",
       "49694            NO         NO                           7   \n",
       "49695            NO         NO                           2   \n",
       "49696            NO         NO                           5   \n",
       "49697            NO         NO                           7   \n",
       "\n",
       "       Sintomas a Defuncion  Hospitalizacion a Defuncion  \n",
       "0                        10                            4  \n",
       "1                        25                           21  \n",
       "2                         7                            1  \n",
       "3                         0                            0  \n",
       "4                        16                            5  \n",
       "...                     ...                          ...  \n",
       "49693                    17                           17  \n",
       "49694                    14                            7  \n",
       "49695                     7                            5  \n",
       "49696                     9                            4  \n",
       "49697                    25                           18  \n",
       "\n",
       "[49698 rows x 17 columns]"
      ]
     },
     "execution_count": 104,
     "metadata": {},
     "output_type": "execute_result"
    }
   ],
   "source": [
    "df_fall.drop([\"FECHA_DEF\", \"FECHA_INGRESO\", \"FECHA_SINTOMAS\"], axis=1, inplace=True)\n",
    "df_fall"
   ]
  },
  {
   "cell_type": "code",
   "execution_count": 105,
   "metadata": {
    "scrolled": true
   },
   "outputs": [
    {
     "data": {
      "text/html": [
       "<div>\n",
       "<style scoped>\n",
       "    .dataframe tbody tr th:only-of-type {\n",
       "        vertical-align: middle;\n",
       "    }\n",
       "\n",
       "    .dataframe tbody tr th {\n",
       "        vertical-align: top;\n",
       "    }\n",
       "\n",
       "    .dataframe thead th {\n",
       "        text-align: right;\n",
       "    }\n",
       "</style>\n",
       "<table border=\"1\" class=\"dataframe\">\n",
       "  <thead>\n",
       "    <tr style=\"text-align: right;\">\n",
       "      <th></th>\n",
       "      <th>EDAD</th>\n",
       "      <th>Sintomas a hospitalizacion</th>\n",
       "      <th>Sintomas a Defuncion</th>\n",
       "      <th>Hospitalizacion a Defuncion</th>\n",
       "    </tr>\n",
       "  </thead>\n",
       "  <tbody>\n",
       "    <tr>\n",
       "      <th>count</th>\n",
       "      <td>49698.000000</td>\n",
       "      <td>49698.000000</td>\n",
       "      <td>49698.000000</td>\n",
       "      <td>49698.000000</td>\n",
       "    </tr>\n",
       "    <tr>\n",
       "      <th>mean</th>\n",
       "      <td>61.742847</td>\n",
       "      <td>4.434444</td>\n",
       "      <td>12.178558</td>\n",
       "      <td>7.744114</td>\n",
       "    </tr>\n",
       "    <tr>\n",
       "      <th>std</th>\n",
       "      <td>14.217348</td>\n",
       "      <td>3.524340</td>\n",
       "      <td>8.057944</td>\n",
       "      <td>7.567800</td>\n",
       "    </tr>\n",
       "    <tr>\n",
       "      <th>min</th>\n",
       "      <td>0.000000</td>\n",
       "      <td>0.000000</td>\n",
       "      <td>0.000000</td>\n",
       "      <td>-57.000000</td>\n",
       "    </tr>\n",
       "    <tr>\n",
       "      <th>25%</th>\n",
       "      <td>53.000000</td>\n",
       "      <td>2.000000</td>\n",
       "      <td>7.000000</td>\n",
       "      <td>2.000000</td>\n",
       "    </tr>\n",
       "    <tr>\n",
       "      <th>50%</th>\n",
       "      <td>62.000000</td>\n",
       "      <td>4.000000</td>\n",
       "      <td>11.000000</td>\n",
       "      <td>6.000000</td>\n",
       "    </tr>\n",
       "    <tr>\n",
       "      <th>75%</th>\n",
       "      <td>72.000000</td>\n",
       "      <td>7.000000</td>\n",
       "      <td>16.000000</td>\n",
       "      <td>11.000000</td>\n",
       "    </tr>\n",
       "    <tr>\n",
       "      <th>max</th>\n",
       "      <td>103.000000</td>\n",
       "      <td>68.000000</td>\n",
       "      <td>106.000000</td>\n",
       "      <td>106.000000</td>\n",
       "    </tr>\n",
       "  </tbody>\n",
       "</table>\n",
       "</div>"
      ],
      "text/plain": [
       "               EDAD  Sintomas a hospitalizacion  Sintomas a Defuncion  \\\n",
       "count  49698.000000                49698.000000          49698.000000   \n",
       "mean      61.742847                    4.434444             12.178558   \n",
       "std       14.217348                    3.524340              8.057944   \n",
       "min        0.000000                    0.000000              0.000000   \n",
       "25%       53.000000                    2.000000              7.000000   \n",
       "50%       62.000000                    4.000000             11.000000   \n",
       "75%       72.000000                    7.000000             16.000000   \n",
       "max      103.000000                   68.000000            106.000000   \n",
       "\n",
       "       Hospitalizacion a Defuncion  \n",
       "count                 49698.000000  \n",
       "mean                      7.744114  \n",
       "std                       7.567800  \n",
       "min                     -57.000000  \n",
       "25%                       2.000000  \n",
       "50%                       6.000000  \n",
       "75%                      11.000000  \n",
       "max                     106.000000  "
      ]
     },
     "execution_count": 105,
     "metadata": {},
     "output_type": "execute_result"
    }
   ],
   "source": [
    "df_fall.describe()"
   ]
  },
  {
   "cell_type": "code",
   "execution_count": 106,
   "metadata": {},
   "outputs": [
    {
     "data": {
      "text/plain": [
       "ID_REGISTRO                    object\n",
       "SEXO                           object\n",
       "ENTIDAD_RES                    object\n",
       "NEUMONIA                       object\n",
       "EDAD                            int64\n",
       "DIABETES                       object\n",
       "EPOC                           object\n",
       "ASMA                           object\n",
       "INMUSUPR                       object\n",
       "HIPERTENSION                   object\n",
       "CARDIOVASCULAR                 object\n",
       "OBESIDAD                       object\n",
       "RENAL_CRONICA                  object\n",
       "TABAQUISMO                     object\n",
       "Sintomas a hospitalizacion      int64\n",
       "Sintomas a Defuncion            int64\n",
       "Hospitalizacion a Defuncion     int64\n",
       "dtype: object"
      ]
     },
     "execution_count": 106,
     "metadata": {},
     "output_type": "execute_result"
    }
   ],
   "source": [
    "df_fall.dtypes"
   ]
  },
  {
   "cell_type": "code",
   "execution_count": 107,
   "metadata": {},
   "outputs": [
    {
     "data": {
      "text/plain": [
       "EDAD                           19.0\n",
       "Sintomas a hospitalizacion      5.0\n",
       "Sintomas a Defuncion            9.0\n",
       "Hospitalizacion a Defuncion     9.0\n",
       "dtype: float64"
      ]
     },
     "execution_count": 107,
     "metadata": {},
     "output_type": "execute_result"
    }
   ],
   "source": [
    "Q1 = df_fall.quantile(0.25)\n",
    "Q3 = df_fall.quantile(0.75)\n",
    "IQR_final = Q3 - Q1\n",
    "IQR_final"
   ]
  },
  {
   "cell_type": "code",
   "execution_count": 108,
   "metadata": {
    "scrolled": true
   },
   "outputs": [
    {
     "data": {
      "text/html": [
       "<div>\n",
       "<style scoped>\n",
       "    .dataframe tbody tr th:only-of-type {\n",
       "        vertical-align: middle;\n",
       "    }\n",
       "\n",
       "    .dataframe tbody tr th {\n",
       "        vertical-align: top;\n",
       "    }\n",
       "\n",
       "    .dataframe thead th {\n",
       "        text-align: right;\n",
       "    }\n",
       "</style>\n",
       "<table border=\"1\" class=\"dataframe\">\n",
       "  <thead>\n",
       "    <tr style=\"text-align: right;\">\n",
       "      <th></th>\n",
       "      <th>EDAD</th>\n",
       "      <th>Sintomas a hospitalizacion</th>\n",
       "      <th>Sintomas a Defuncion</th>\n",
       "      <th>Hospitalizacion a Defuncion</th>\n",
       "    </tr>\n",
       "  </thead>\n",
       "  <tbody>\n",
       "    <tr>\n",
       "      <th>count</th>\n",
       "      <td>49121.000000</td>\n",
       "      <td>49121.000000</td>\n",
       "      <td>49121.000000</td>\n",
       "      <td>49121.000000</td>\n",
       "    </tr>\n",
       "    <tr>\n",
       "      <th>mean</th>\n",
       "      <td>61.427658</td>\n",
       "      <td>4.436147</td>\n",
       "      <td>12.212211</td>\n",
       "      <td>7.776063</td>\n",
       "    </tr>\n",
       "    <tr>\n",
       "      <th>std</th>\n",
       "      <td>13.916902</td>\n",
       "      <td>3.509996</td>\n",
       "      <td>8.053594</td>\n",
       "      <td>7.550644</td>\n",
       "    </tr>\n",
       "    <tr>\n",
       "      <th>min</th>\n",
       "      <td>0.000000</td>\n",
       "      <td>0.000000</td>\n",
       "      <td>0.000000</td>\n",
       "      <td>0.000000</td>\n",
       "    </tr>\n",
       "    <tr>\n",
       "      <th>25%</th>\n",
       "      <td>52.000000</td>\n",
       "      <td>2.000000</td>\n",
       "      <td>7.000000</td>\n",
       "      <td>2.000000</td>\n",
       "    </tr>\n",
       "    <tr>\n",
       "      <th>50%</th>\n",
       "      <td>62.000000</td>\n",
       "      <td>4.000000</td>\n",
       "      <td>11.000000</td>\n",
       "      <td>6.000000</td>\n",
       "    </tr>\n",
       "    <tr>\n",
       "      <th>75%</th>\n",
       "      <td>71.000000</td>\n",
       "      <td>7.000000</td>\n",
       "      <td>16.000000</td>\n",
       "      <td>11.000000</td>\n",
       "    </tr>\n",
       "    <tr>\n",
       "      <th>max</th>\n",
       "      <td>90.000000</td>\n",
       "      <td>68.000000</td>\n",
       "      <td>106.000000</td>\n",
       "      <td>106.000000</td>\n",
       "    </tr>\n",
       "  </tbody>\n",
       "</table>\n",
       "</div>"
      ],
      "text/plain": [
       "               EDAD  Sintomas a hospitalizacion  Sintomas a Defuncion  \\\n",
       "count  49121.000000                49121.000000          49121.000000   \n",
       "mean      61.427658                    4.436147             12.212211   \n",
       "std       13.916902                    3.509996              8.053594   \n",
       "min        0.000000                    0.000000              0.000000   \n",
       "25%       52.000000                    2.000000              7.000000   \n",
       "50%       62.000000                    4.000000             11.000000   \n",
       "75%       71.000000                    7.000000             16.000000   \n",
       "max       90.000000                   68.000000            106.000000   \n",
       "\n",
       "       Hospitalizacion a Defuncion  \n",
       "count                 49121.000000  \n",
       "mean                      7.776063  \n",
       "std                       7.550644  \n",
       "min                       0.000000  \n",
       "25%                       2.000000  \n",
       "50%                       6.000000  \n",
       "75%                      11.000000  \n",
       "max                     106.000000  "
      ]
     },
     "execution_count": 108,
     "metadata": {},
     "output_type": "execute_result"
    }
   ],
   "source": [
    "df_listo = df_fall[(data_df[\"Sintomas a Defuncion\"] >=0) & (df_fall[\"Hospitalizacion a Defuncion\"]>=0) & (df_fall[\"EDAD\"] <=90)]\n",
    "df_listo.describe()"
   ]
  },
  {
   "cell_type": "code",
   "execution_count": 111,
   "metadata": {},
   "outputs": [
    {
     "data": {
      "text/html": [
       "<div>\n",
       "<style scoped>\n",
       "    .dataframe tbody tr th:only-of-type {\n",
       "        vertical-align: middle;\n",
       "    }\n",
       "\n",
       "    .dataframe tbody tr th {\n",
       "        vertical-align: top;\n",
       "    }\n",
       "\n",
       "    .dataframe thead th {\n",
       "        text-align: right;\n",
       "    }\n",
       "</style>\n",
       "<table border=\"1\" class=\"dataframe\">\n",
       "  <thead>\n",
       "    <tr style=\"text-align: right;\">\n",
       "      <th></th>\n",
       "      <th>EDAD</th>\n",
       "      <th>Sintomas a hospitalizacion</th>\n",
       "      <th>Sintomas a Defuncion</th>\n",
       "      <th>Hospitalizacion a Defuncion</th>\n",
       "    </tr>\n",
       "  </thead>\n",
       "  <tbody>\n",
       "    <tr>\n",
       "      <th>count</th>\n",
       "      <td>46364.000000</td>\n",
       "      <td>46364.000000</td>\n",
       "      <td>46364.000000</td>\n",
       "      <td>46364.000000</td>\n",
       "    </tr>\n",
       "    <tr>\n",
       "      <th>mean</th>\n",
       "      <td>61.859740</td>\n",
       "      <td>4.344319</td>\n",
       "      <td>11.116621</td>\n",
       "      <td>6.772302</td>\n",
       "    </tr>\n",
       "    <tr>\n",
       "      <th>std</th>\n",
       "      <td>13.334847</td>\n",
       "      <td>3.326185</td>\n",
       "      <td>6.108281</td>\n",
       "      <td>5.549489</td>\n",
       "    </tr>\n",
       "    <tr>\n",
       "      <th>min</th>\n",
       "      <td>25.000000</td>\n",
       "      <td>0.000000</td>\n",
       "      <td>0.000000</td>\n",
       "      <td>0.000000</td>\n",
       "    </tr>\n",
       "    <tr>\n",
       "      <th>25%</th>\n",
       "      <td>53.000000</td>\n",
       "      <td>2.000000</td>\n",
       "      <td>6.000000</td>\n",
       "      <td>2.000000</td>\n",
       "    </tr>\n",
       "    <tr>\n",
       "      <th>50%</th>\n",
       "      <td>62.000000</td>\n",
       "      <td>4.000000</td>\n",
       "      <td>10.000000</td>\n",
       "      <td>5.000000</td>\n",
       "    </tr>\n",
       "    <tr>\n",
       "      <th>75%</th>\n",
       "      <td>72.000000</td>\n",
       "      <td>7.000000</td>\n",
       "      <td>15.000000</td>\n",
       "      <td>10.000000</td>\n",
       "    </tr>\n",
       "    <tr>\n",
       "      <th>max</th>\n",
       "      <td>90.000000</td>\n",
       "      <td>14.000000</td>\n",
       "      <td>29.000000</td>\n",
       "      <td>24.000000</td>\n",
       "    </tr>\n",
       "  </tbody>\n",
       "</table>\n",
       "</div>"
      ],
      "text/plain": [
       "               EDAD  Sintomas a hospitalizacion  Sintomas a Defuncion  \\\n",
       "count  46364.000000                46364.000000          46364.000000   \n",
       "mean      61.859740                    4.344319             11.116621   \n",
       "std       13.334847                    3.326185              6.108281   \n",
       "min       25.000000                    0.000000              0.000000   \n",
       "25%       53.000000                    2.000000              6.000000   \n",
       "50%       62.000000                    4.000000             10.000000   \n",
       "75%       72.000000                    7.000000             15.000000   \n",
       "max       90.000000                   14.000000             29.000000   \n",
       "\n",
       "       Hospitalizacion a Defuncion  \n",
       "count                 46364.000000  \n",
       "mean                      6.772302  \n",
       "std                       5.549489  \n",
       "min                       0.000000  \n",
       "25%                       2.000000  \n",
       "50%                       5.000000  \n",
       "75%                      10.000000  \n",
       "max                      24.000000  "
      ]
     },
     "execution_count": 111,
     "metadata": {},
     "output_type": "execute_result"
    }
   ],
   "source": [
    "data_df = df_listo[~((df_listo < (Q1 - 1.5 * IQR_final)) | (df_listo > (Q3 + 1.5 * IQR_final))).any(axis=1)]\n",
    "data_df.describe()"
   ]
  },
  {
   "cell_type": "code",
   "execution_count": 114,
   "metadata": {
    "scrolled": true
   },
   "outputs": [
    {
     "name": "stderr",
     "output_type": "stream",
     "text": [
      "C:\\Users\\willo\\anaconda3\\envs\\PythonData\\lib\\site-packages\\ipykernel_launcher.py:4: SettingWithCopyWarning: \n",
      "A value is trying to be set on a copy of a slice from a DataFrame.\n",
      "Try using .loc[row_indexer,col_indexer] = value instead\n",
      "\n",
      "See the caveats in the documentation: https://pandas.pydata.org/pandas-docs/stable/user_guide/indexing.html#returning-a-view-versus-a-copy\n",
      "  after removing the cwd from sys.path.\n"
     ]
    },
    {
     "data": {
      "text/html": [
       "<div>\n",
       "<style scoped>\n",
       "    .dataframe tbody tr th:only-of-type {\n",
       "        vertical-align: middle;\n",
       "    }\n",
       "\n",
       "    .dataframe tbody tr th {\n",
       "        vertical-align: top;\n",
       "    }\n",
       "\n",
       "    .dataframe thead th {\n",
       "        text-align: right;\n",
       "    }\n",
       "</style>\n",
       "<table border=\"1\" class=\"dataframe\">\n",
       "  <thead>\n",
       "    <tr style=\"text-align: right;\">\n",
       "      <th></th>\n",
       "      <th>ID_REGISTRO</th>\n",
       "      <th>SEXO</th>\n",
       "      <th>ENTIDAD_RES</th>\n",
       "      <th>NEUMONIA</th>\n",
       "      <th>EDAD</th>\n",
       "      <th>DIABETES</th>\n",
       "      <th>EPOC</th>\n",
       "      <th>ASMA</th>\n",
       "      <th>INMUSUPR</th>\n",
       "      <th>HIPERTENSION</th>\n",
       "      <th>CARDIOVASCULAR</th>\n",
       "      <th>OBESIDAD</th>\n",
       "      <th>RENAL_CRONICA</th>\n",
       "      <th>TABAQUISMO</th>\n",
       "      <th>Sintomas a hospitalizacion</th>\n",
       "      <th>Sintomas a Defuncion</th>\n",
       "      <th>Hospitalizacion a Defuncion</th>\n",
       "      <th>Grupo de Edad</th>\n",
       "    </tr>\n",
       "  </thead>\n",
       "  <tbody>\n",
       "    <tr>\n",
       "      <th>0</th>\n",
       "      <td>174902</td>\n",
       "      <td>Hombre</td>\n",
       "      <td>YUCATAN</td>\n",
       "      <td>SI</td>\n",
       "      <td>56</td>\n",
       "      <td>NO</td>\n",
       "      <td>NO</td>\n",
       "      <td>NO</td>\n",
       "      <td>NO</td>\n",
       "      <td>SI</td>\n",
       "      <td>NO</td>\n",
       "      <td>SI</td>\n",
       "      <td>NO</td>\n",
       "      <td>NO</td>\n",
       "      <td>6</td>\n",
       "      <td>10</td>\n",
       "      <td>4</td>\n",
       "      <td>46 a 60</td>\n",
       "    </tr>\n",
       "    <tr>\n",
       "      <th>2</th>\n",
       "      <td>13e374</td>\n",
       "      <td>Mujer</td>\n",
       "      <td>BAJA CALIFORNIA</td>\n",
       "      <td>SI</td>\n",
       "      <td>50</td>\n",
       "      <td>SI</td>\n",
       "      <td>NO</td>\n",
       "      <td>NO</td>\n",
       "      <td>NO</td>\n",
       "      <td>SI</td>\n",
       "      <td>NO</td>\n",
       "      <td>SI</td>\n",
       "      <td>NO</td>\n",
       "      <td>NO</td>\n",
       "      <td>6</td>\n",
       "      <td>7</td>\n",
       "      <td>1</td>\n",
       "      <td>46 a 60</td>\n",
       "    </tr>\n",
       "    <tr>\n",
       "      <th>3</th>\n",
       "      <td>0ea851</td>\n",
       "      <td>Mujer</td>\n",
       "      <td>MEXICO</td>\n",
       "      <td>SI</td>\n",
       "      <td>70</td>\n",
       "      <td>NO</td>\n",
       "      <td>NO</td>\n",
       "      <td>NO</td>\n",
       "      <td>NO</td>\n",
       "      <td>NO</td>\n",
       "      <td>NO</td>\n",
       "      <td>NO</td>\n",
       "      <td>NO</td>\n",
       "      <td>NO</td>\n",
       "      <td>0</td>\n",
       "      <td>0</td>\n",
       "      <td>0</td>\n",
       "      <td>mayores de 60</td>\n",
       "    </tr>\n",
       "    <tr>\n",
       "      <th>4</th>\n",
       "      <td>0aa887</td>\n",
       "      <td>Mujer</td>\n",
       "      <td>CIUDAD DE MÉXICO</td>\n",
       "      <td>NO</td>\n",
       "      <td>78</td>\n",
       "      <td>SI</td>\n",
       "      <td>NO</td>\n",
       "      <td>NO</td>\n",
       "      <td>NO</td>\n",
       "      <td>NO</td>\n",
       "      <td>NO</td>\n",
       "      <td>NO</td>\n",
       "      <td>NO</td>\n",
       "      <td>NO</td>\n",
       "      <td>11</td>\n",
       "      <td>16</td>\n",
       "      <td>5</td>\n",
       "      <td>mayores de 60</td>\n",
       "    </tr>\n",
       "    <tr>\n",
       "      <th>5</th>\n",
       "      <td>0e05f1</td>\n",
       "      <td>Mujer</td>\n",
       "      <td>SINALOA</td>\n",
       "      <td>SI</td>\n",
       "      <td>74</td>\n",
       "      <td>NO</td>\n",
       "      <td>NO</td>\n",
       "      <td>NO</td>\n",
       "      <td>NO</td>\n",
       "      <td>SI</td>\n",
       "      <td>NO</td>\n",
       "      <td>NO</td>\n",
       "      <td>NO</td>\n",
       "      <td>NO</td>\n",
       "      <td>9</td>\n",
       "      <td>24</td>\n",
       "      <td>15</td>\n",
       "      <td>mayores de 60</td>\n",
       "    </tr>\n",
       "  </tbody>\n",
       "</table>\n",
       "</div>"
      ],
      "text/plain": [
       "  ID_REGISTRO    SEXO       ENTIDAD_RES NEUMONIA  EDAD DIABETES EPOC ASMA  \\\n",
       "0      174902  Hombre           YUCATAN       SI    56       NO   NO   NO   \n",
       "2      13e374   Mujer   BAJA CALIFORNIA       SI    50       SI   NO   NO   \n",
       "3      0ea851   Mujer            MEXICO       SI    70       NO   NO   NO   \n",
       "4      0aa887   Mujer  CIUDAD DE MÉXICO       NO    78       SI   NO   NO   \n",
       "5      0e05f1   Mujer           SINALOA       SI    74       NO   NO   NO   \n",
       "\n",
       "  INMUSUPR HIPERTENSION CARDIOVASCULAR OBESIDAD RENAL_CRONICA TABAQUISMO  \\\n",
       "0       NO           SI             NO       SI            NO         NO   \n",
       "2       NO           SI             NO       SI            NO         NO   \n",
       "3       NO           NO             NO       NO            NO         NO   \n",
       "4       NO           NO             NO       NO            NO         NO   \n",
       "5       NO           SI             NO       NO            NO         NO   \n",
       "\n",
       "   Sintomas a hospitalizacion  Sintomas a Defuncion  \\\n",
       "0                           6                    10   \n",
       "2                           6                     7   \n",
       "3                           0                     0   \n",
       "4                          11                    16   \n",
       "5                           9                    24   \n",
       "\n",
       "   Hospitalizacion a Defuncion  Grupo de Edad  \n",
       "0                            4        46 a 60  \n",
       "2                            1        46 a 60  \n",
       "3                            0  mayores de 60  \n",
       "4                            5  mayores de 60  \n",
       "5                           15  mayores de 60  "
      ]
     },
     "execution_count": 114,
     "metadata": {},
     "output_type": "execute_result"
    }
   ],
   "source": [
    "bins =[0, 15, 30, 45, 60, 100]\n",
    "group_names = [\"Menos de 15\", \"16 a 30\", \"31 a 45\", \"46 a 60\", \"mayores de 60\"]\n",
    "data_df= df_out\n",
    "df_out[\"Grupo de Edad\"] = pd.cut(df_out[\"EDAD\"], bins, labels=group_names, include_lowest=True)\n",
    "df_out.head()"
   ]
  },
  {
   "cell_type": "code",
   "execution_count": 115,
   "metadata": {
    "scrolled": true
   },
   "outputs": [
    {
     "name": "stdout",
     "output_type": "stream",
     "text": [
      "The correlation between the patient's  Sex and the time from sympthom detection till demise is:\n",
      "Hombre    0.031429\n",
      "Mujer    -0.031429\n",
      "dtype: float64\n"
     ]
    },
    {
     "data": {
      "image/png": "[encoded data removed]",
      "text/plain": [
       "<Figure size 432x288 with 1 Axes>"
      ]
     },
     "metadata": {
      "needs_background": "light"
     },
     "output_type": "display_data"
    }
   ],
   "source": [
    "df_out.boxplot(column=\"Sintomas a Defuncion\", by=\"SEXO\")\n",
    "s_corr_s = df_out[\"SEXO\"].str.get_dummies().corrwith(df_out[\"Sintomas a Defuncion\"])\n",
    "print(\"The correlation between the patient's  Sex and the time from sympthom detection till demise is:\")\n",
    "print(s_corr_s)"
   ]
  },
  {
   "cell_type": "code",
   "execution_count": 116,
   "metadata": {},
   "outputs": [
    {
     "name": "stdout",
     "output_type": "stream",
     "text": [
      "The correlation between the patient's  Sex and the time from hospitalization till demise is:\n",
      "Hombre    0.013096\n",
      "Mujer    -0.013096\n",
      "dtype: float64\n"
     ]
    },
    {
     "data": {
      "image/png": "[encoded data removed]",
      "text/plain": [
       "<Figure size 432x288 with 1 Axes>"
      ]
     },
     "metadata": {
      "needs_background": "light"
     },
     "output_type": "display_data"
    }
   ],
   "source": [
    "df_out.boxplot(column=\"Hospitalizacion a Defuncion\", by=\"SEXO\")\n",
    "s_corr_sh = df_out[\"SEXO\"].str.get_dummies().corrwith(df_out[\"Hospitalizacion a Defuncion\"])\n",
    "print(\"The correlation between the patient's  Sex and the time from hospitalization till demise is:\")\n",
    "print(s_corr_sh)"
   ]
  },
  {
   "cell_type": "code",
   "execution_count": 117,
   "metadata": {
    "scrolled": true
   },
   "outputs": [
    {
     "name": "stdout",
     "output_type": "stream",
     "text": [
      "The correlation between the patient's  Age Group and the time from hospitalization till demise is:\n",
      "16 a 30         -0.009423\n",
      "31 a 45         -0.001215\n",
      "46 a 60          0.023571\n",
      "mayores de 60   -0.019452\n",
      "dtype: float64\n"
     ]
    },
    {
     "data": {
      "image/png": "[encoded data removed]",
      "text/plain": [
       "<Figure size 432x288 with 1 Axes>"
      ]
     },
     "metadata": {
      "needs_background": "light"
     },
     "output_type": "display_data"
    }
   ],
   "source": [
    "df_out.boxplot(column=\"Hospitalizacion a Defuncion\", by=\"Grupo de Edad\")\n",
    "s_corr_gh = df_out[\"Grupo de Edad\"].str.get_dummies().corrwith(df_out[\"Hospitalizacion a Defuncion\"])\n",
    "print(\"The correlation between the patient's  Age Group and the time from hospitalization till demise is:\")\n",
    "print(s_corr_gh)"
   ]
  },
  {
   "cell_type": "code",
   "execution_count": 118,
   "metadata": {},
   "outputs": [
    {
     "name": "stdout",
     "output_type": "stream",
     "text": [
      "The correlation between the patient's  Sex and the time from sympthom detection till demise is:\n",
      "16 a 30         -0.012589\n",
      "31 a 45          0.000354\n",
      "46 a 60          0.032448\n",
      "mayores de 60   -0.028125\n",
      "dtype: float64\n"
     ]
    },
    {
     "data": {
      "image/png": "[encoded data removed]",
      "text/plain": [
       "<Figure size 432x288 with 1 Axes>"
      ]
     },
     "metadata": {
      "needs_background": "light"
     },
     "output_type": "display_data"
    }
   ],
   "source": [
    "df_out.boxplot(column=\"Sintomas a Defuncion\", by=\"Grupo de Edad\")\n",
    "s_corr_g = df_out[\"Grupo de Edad\"].str.get_dummies().corrwith(df_out[\"Sintomas a Defuncion\"])\n",
    "print(\"The correlation between the patient's  Sex and the time from sympthom detection till demise is:\")\n",
    "print(s_corr_g)"
   ]
  },
  {
   "cell_type": "code",
   "execution_count": 119,
   "metadata": {},
   "outputs": [
    {
     "data": {
      "image/png": "[encoded data removed]",
      "text/plain": [
       "<Figure size 432x288 with 1 Axes>"
      ]
     },
     "metadata": {
      "needs_background": "light"
     },
     "output_type": "display_data"
    },
    {
     "name": "stdout",
     "output_type": "stream",
     "text": [
      "The correlation between the patient's Age and the time from sympthom detection till demise is -0.04\n"
     ]
    }
   ],
   "source": [
    "x_values = df_out[\"EDAD\"]\n",
    "y_values = df_out[\"Sintomas a Defuncion\"]\n",
    "(slope, intercept, rvalue, pvalue, stderr) = st.linregress(x_values, y_values)\n",
    "regress_values = x_values * slope + intercept\n",
    "line_eq = \"y = \" + str(round(slope,2)) + \"x + \" + str(round(intercept,2))\n",
    "plt.scatter(x_values,y_values)\n",
    "plt.plot(x_values,regress_values,\"r-\")\n",
    "plt.annotate(line_eq,(6,10),fontsize=15,color=\"red\")\n",
    "plt.xlabel(\"Edad\")\n",
    "plt.ylabel(\"Sintomas a Defuncion - Dias\")\n",
    "plt.show()\n",
    "correlation = st.pearsonr(x_values,y_values)\n",
    "print(f\"The correlation between the patient's Age and the time from sympthom detection till demise is {round(correlation[0],2)}\")"
   ]
  },
  {
   "cell_type": "code",
   "execution_count": 141,
   "metadata": {},
   "outputs": [
    {
     "data": {
      "image/png": "[encoded data removed]",
      "text/plain": [
       "<Figure size 432x288 with 1 Axes>"
      ]
     },
     "metadata": {
      "needs_background": "light"
     },
     "output_type": "display_data"
    },
    {
     "name": "stdout",
     "output_type": "stream",
     "text": [
      "The correlation between the patient's Age and the time from hospitalization till demise is -0.03\n"
     ]
    }
   ],
   "source": [
    "x_valuesa = df_out[\"EDAD\"]\n",
    "y_valuesa = df_out[\"Hospitalizacion a Defuncion\"]\n",
    "(slope, intercept, rvalue, pvalue, stderr) = st.linregress(x_valuesa, y_valuesa)\n",
    "regress_valuesa = x_values * slope + intercept\n",
    "line_eqa = \"y = \" + str(round(slope,2)) + \"x + \" + str(round(intercept,2))\n",
    "plt.scatter(x_valuesa,y_valuesa)\n",
    "plt.plot(x_valuesa,regress_valuesa,\"r-\")\n",
    "plt.annotate(line_eq,(6,10),fontsize=15,color=\"red\")\n",
    "plt.xlabel(\"Edad\")\n",
    "plt.ylabel(\"Hospitalizacion a Defuncion - Dias\")\n",
    "plt.show()\n",
    "correlation_hd = st.pearsonr(x_valuesa,y_valuesa)\n",
    "print(f\"The correlation between the patient's Age and the time from hospitalization till demise is {round(correlation_hd[0],2)}\")"
   ]
  },
  {
   "cell_type": "code",
   "execution_count": 121,
   "metadata": {
    "scrolled": true
   },
   "outputs": [
    {
     "name": "stdout",
     "output_type": "stream",
     "text": [
      "The correlation between the patient's sympthom detection and it's tobacco usage is:\n",
      "NO          -0.008151\n",
      "SE IGNORA   -0.016140\n",
      "SI           0.013002\n",
      "dtype: float64\n"
     ]
    },
    {
     "data": {
      "image/png": "[encoded data removed]",
      "text/plain": [
       "<Figure size 432x288 with 1 Axes>"
      ]
     },
     "metadata": {
      "needs_background": "light"
     },
     "output_type": "display_data"
    }
   ],
   "source": [
    "df_out.boxplot(column=\"Sintomas a Defuncion\", by=\"TABAQUISMO\")\n",
    "s_corr_t = df_out[\"TABAQUISMO\"].str.get_dummies().corrwith(df_out[\"Sintomas a Defuncion\"])\n",
    "print(\"The correlation between the patient's sympthom detection and it's tobacco usage is:\")\n",
    "print(s_corr_t)"
   ]
  },
  {
   "cell_type": "code",
   "execution_count": 122,
   "metadata": {},
   "outputs": [
    {
     "name": "stdout",
     "output_type": "stream",
     "text": [
      "The correlation between the patient's hospitalization until demise and it's tobacco usage is:\n",
      "NO          -0.002907\n",
      "SE IGNORA   -0.015574\n",
      "SI           0.007424\n",
      "dtype: float64\n"
     ]
    },
    {
     "data": {
      "image/png": "[encoded data removed]",
      "text/plain": [
       "<Figure size 432x288 with 1 Axes>"
      ]
     },
     "metadata": {
      "needs_background": "light"
     },
     "output_type": "display_data"
    }
   ],
   "source": [
    "df_out.boxplot(column=\"Hospitalizacion a Defuncion\", by=\"TABAQUISMO\")\n",
    "s_corr_th = df_out[\"TABAQUISMO\"].str.get_dummies().corrwith(df_out[\"Hospitalizacion a Defuncion\"])\n",
    "print(\"The correlation between the patient's hospitalization until demise and it's tobacco usage is:\")\n",
    "print(s_corr_th)"
   ]
  },
  {
   "cell_type": "code",
   "execution_count": 123,
   "metadata": {
    "scrolled": false
   },
   "outputs": [
    {
     "name": "stdout",
     "output_type": "stream",
     "text": [
      "The correlation between the patient's sympthom detection until demise and Diabetes is:\n",
      "NO           0.065779\n",
      "SE IGNORA   -0.018351\n",
      "SI          -0.063067\n",
      "dtype: float64\n"
     ]
    },
    {
     "data": {
      "image/png": "[encoded data removed]",
      "text/plain": [
       "<Figure size 432x288 with 1 Axes>"
      ]
     },
     "metadata": {
      "needs_background": "light"
     },
     "output_type": "display_data"
    }
   ],
   "source": [
    "df_out.boxplot(column=\"Sintomas a Defuncion\", by=\"DIABETES\")\n",
    "s_corr_d = df_out[\"DIABETES\"].str.get_dummies().corrwith(df_out[\"Sintomas a Defuncion\"])\n",
    "print(\"The correlation between the patient's sympthom detection until demise and Diabetes is:\")\n",
    "print(s_corr_d)\n"
   ]
  },
  {
   "cell_type": "code",
   "execution_count": 124,
   "metadata": {},
   "outputs": [
    {
     "name": "stdout",
     "output_type": "stream",
     "text": [
      "The correlation between the patient's hospitalization until demise and Diabetes is:\n",
      "NO           0.066067\n",
      "SE IGNORA   -0.017381\n",
      "SI          -0.063509\n",
      "dtype: float64\n"
     ]
    },
    {
     "data": {
      "image/png": "[encoded data removed]",
      "text/plain": [
       "<Figure size 432x288 with 1 Axes>"
      ]
     },
     "metadata": {
      "needs_background": "light"
     },
     "output_type": "display_data"
    }
   ],
   "source": [
    "df_out.boxplot(column=\"Hospitalizacion a Defuncion\", by=\"DIABETES\")\n",
    "s_corr_dh = df_out[\"DIABETES\"].str.get_dummies().corrwith(df_out[\"Hospitalizacion a Defuncion\"])\n",
    "print(\"The correlation between the patient's hospitalization until demise and Diabetes is:\")\n",
    "print(s_corr_dh)"
   ]
  },
  {
   "cell_type": "code",
   "execution_count": 125,
   "metadata": {
    "scrolled": true
   },
   "outputs": [
    {
     "name": "stdout",
     "output_type": "stream",
     "text": [
      "The correlation between the patient's sympthom detection until demise and Asthma is:\n",
      "NO           0.004441\n",
      "SE IGNORA   -0.017672\n",
      "SI           0.004309\n",
      "dtype: float64\n"
     ]
    },
    {
     "data": {
      "image/png": "[encoded data removed]",
      "text/plain": [
       "<Figure size 432x288 with 1 Axes>"
      ]
     },
     "metadata": {
      "needs_background": "light"
     },
     "output_type": "display_data"
    }
   ],
   "source": [
    "df_out.boxplot(column=\"Sintomas a Defuncion\", by=\"ASMA\")\n",
    "s_corr_a = df_out[\"ASMA\"].str.get_dummies().corrwith(df_out[\"Sintomas a Defuncion\"])\n",
    "print(\"The correlation between the patient's sympthom detection until demise and Asthma is:\")\n",
    "print(s_corr_a)"
   ]
  },
  {
   "cell_type": "code",
   "execution_count": 126,
   "metadata": {},
   "outputs": [
    {
     "name": "stdout",
     "output_type": "stream",
     "text": [
      "The correlation between the patient's Hospitalization until demise and Asthma is:\n",
      "NO           0.004820\n",
      "SE IGNORA   -0.016821\n",
      "SI           0.003435\n",
      "dtype: float64\n"
     ]
    },
    {
     "data": {
      "image/png": "[encoded data removed]",
      "text/plain": [
       "<Figure size 432x288 with 1 Axes>"
      ]
     },
     "metadata": {
      "needs_background": "light"
     },
     "output_type": "display_data"
    }
   ],
   "source": [
    "df_out.boxplot(column=\"Hospitalizacion a Defuncion\", by=\"ASMA\")\n",
    "s_corr_ah = df_out[\"ASMA\"].str.get_dummies().corrwith(df_out[\"Hospitalizacion a Defuncion\"])\n",
    "print(\"The correlation between the patient's Hospitalization until demise and Asthma is:\")\n",
    "print(s_corr_ah)"
   ]
  },
  {
   "cell_type": "code",
   "execution_count": 127,
   "metadata": {},
   "outputs": [
    {
     "name": "stdout",
     "output_type": "stream",
     "text": [
      "The correlation between the patient's sympthom detection until demise and Obesity is:\n",
      "NO           0.007924\n",
      "SE IGNORA   -0.016231\n",
      "SI          -0.005076\n",
      "dtype: float64\n"
     ]
    },
    {
     "data": {
      "image/png": "[encoded data removed]",
      "text/plain": [
       "<Figure size 432x288 with 1 Axes>"
      ]
     },
     "metadata": {
      "needs_background": "light"
     },
     "output_type": "display_data"
    }
   ],
   "source": [
    "df_out.boxplot(column=\"Sintomas a Defuncion\", by=\"OBESIDAD\")\n",
    "s_corr_o = df_out[\"OBESIDAD\"].str.get_dummies().corrwith(df_out[\"Sintomas a Defuncion\"])\n",
    "print(\"The correlation between the patient's sympthom detection until demise and Obesity is:\")\n",
    "print(s_corr_o)"
   ]
  },
  {
   "cell_type": "code",
   "execution_count": 128,
   "metadata": {},
   "outputs": [
    {
     "name": "stdout",
     "output_type": "stream",
     "text": [
      "The correlation between the patient's Hospitalization until demise and Obesity is:\n",
      "NO           0.038360\n",
      "SE IGNORA   -0.020382\n",
      "SI          -0.035010\n",
      "dtype: float64\n"
     ]
    },
    {
     "data": {
      "image/png": "[encoded data removed]",
      "text/plain": [
       "<Figure size 432x288 with 1 Axes>"
      ]
     },
     "metadata": {
      "needs_background": "light"
     },
     "output_type": "display_data"
    }
   ],
   "source": [
    "df_out.boxplot(column=\"Hospitalizacion a Defuncion\", by=\"OBESIDAD\")\n",
    "s_corr_oh = df_out[\"OBESIDAD\"].str.get_dummies().corrwith(df_out[\"Hospitalizacion a Defuncion\"])\n",
    "print(\"The correlation between the patient's Hospitalization until demise and Obesity is:\")\n",
    "print(s_corr_oh)"
   ]
  },
  {
   "cell_type": "code",
   "execution_count": 129,
   "metadata": {
    "scrolled": true
   },
   "outputs": [
    {
     "name": "stdout",
     "output_type": "stream",
     "text": [
      "The correlation between the patient's sympthom detection until demise and State of residency is:\n",
      "AGUASCALIENTES                    -0.007068\n",
      "BAJA CALIFORNIA                    0.031151\n",
      "BAJA CALIFORNIA SUR               -0.001654\n",
      "CAMPECHE                           0.010961\n",
      "CHIAPAS                            0.004246\n",
      "CHIHUAHUA                         -0.010514\n",
      "CIUDAD DE MÉXICO                   0.057223\n",
      "COAHUILA DE ZARAGOZA              -0.055868\n",
      "COLIMA                             0.004497\n",
      "DURANGO                           -0.013042\n",
      "GUANAJUATO                        -0.021990\n",
      "GUERRERO                          -0.016783\n",
      "HIDALGO                           -0.004010\n",
      "JALISCO                            0.000569\n",
      "MEXICO                            -0.018255\n",
      "MICHOACAN DE OCAMPO               -0.001767\n",
      "MORELOS                           -0.044030\n",
      "NAYARIT                           -0.024695\n",
      "NUEVO LEON                        -0.002966\n",
      "OAXACA                            -0.029358\n",
      "PUEBLA                             0.015726\n",
      "QUERETARO                         -0.001269\n",
      "QUINTANA ROO                       0.000213\n",
      "SAN LUIS POTOSI                   -0.017841\n",
      "SINALOA                            0.037156\n",
      "SONORA                             0.022745\n",
      "TABASCO                            0.017917\n",
      "TAMAULIPAS                        -0.016146\n",
      "TLAXCALA                          -0.002955\n",
      "VERACRUZ DE IGNACIO DE LA LLAVE   -0.028536\n",
      "YUCATAN                            0.004944\n",
      "ZACATECAS                         -0.019326\n",
      "dtype: float64\n"
     ]
    },
    {
     "data": {
      "image/png": "[encoded data removed]",
      "text/plain": [
       "<Figure size 432x288 with 1 Axes>"
      ]
     },
     "metadata": {
      "needs_background": "light"
     },
     "output_type": "display_data"
    }
   ],
   "source": [
    "df_out.boxplot(column=\"Sintomas a Defuncion\", by=\"ENTIDAD_RES\")\n",
    "s_corr_e = df_out[\"ENTIDAD_RES\"].str.get_dummies().corrwith(df_out[\"Sintomas a Defuncion\"])\n",
    "print(\"The correlation between the patient's sympthom detection until demise and State of residency is:\")\n",
    "print(s_corr_e)"
   ]
  },
  {
   "cell_type": "code",
   "execution_count": 130,
   "metadata": {},
   "outputs": [
    {
     "name": "stdout",
     "output_type": "stream",
     "text": [
      "The correlation between the patient's hospitalization until demise and State of residency is:\n",
      "AGUASCALIENTES                     0.009362\n",
      "BAJA CALIFORNIA                    0.032127\n",
      "BAJA CALIFORNIA SUR                0.010194\n",
      "CAMPECHE                          -0.007450\n",
      "CHIAPAS                            0.005086\n",
      "CHIHUAHUA                          0.002315\n",
      "CIUDAD DE MÉXICO                   0.056013\n",
      "COAHUILA DE ZARAGOZA              -0.021281\n",
      "COLIMA                             0.008440\n",
      "DURANGO                           -0.001837\n",
      "GUANAJUATO                        -0.014850\n",
      "GUERRERO                          -0.029736\n",
      "HIDALGO                           -0.012902\n",
      "JALISCO                            0.012034\n",
      "MEXICO                             0.013341\n",
      "MICHOACAN DE OCAMPO               -0.007995\n",
      "MORELOS                           -0.027446\n",
      "NAYARIT                           -0.016271\n",
      "NUEVO LEON                         0.014573\n",
      "OAXACA                            -0.023247\n",
      "PUEBLA                            -0.019923\n",
      "QUERETARO                          0.026066\n",
      "QUINTANA ROO                      -0.002113\n",
      "SAN LUIS POTOSI                   -0.015684\n",
      "SINALOA                            0.011519\n",
      "SONORA                             0.011141\n",
      "TABASCO                           -0.029687\n",
      "TAMAULIPAS                        -0.016045\n",
      "TLAXCALA                          -0.018515\n",
      "VERACRUZ DE IGNACIO DE LA LLAVE   -0.029593\n",
      "YUCATAN                            0.000592\n",
      "ZACATECAS                         -0.006585\n",
      "dtype: float64\n"
     ]
    },
    {
     "data": {
      "image/png": "[encoded data removed]",
      "text/plain": [
       "<Figure size 432x288 with 1 Axes>"
      ]
     },
     "metadata": {
      "needs_background": "light"
     },
     "output_type": "display_data"
    }
   ],
   "source": [
    "df_out.boxplot(column=\"Hospitalizacion a Defuncion\", by=\"ENTIDAD_RES\")\n",
    "s_corr_eh = df_out[\"ENTIDAD_RES\"].str.get_dummies().corrwith(df_out[\"Hospitalizacion a Defuncion\"])\n",
    "print(\"The correlation between the patient's hospitalization until demise and State of residency is:\")\n",
    "print(s_corr_eh)"
   ]
  },
  {
   "cell_type": "code",
   "execution_count": 131,
   "metadata": {},
   "outputs": [
    {
     "name": "stdout",
     "output_type": "stream",
     "text": [
      "The correlation between the patient's  Inmunosupressed disease and the time from sympthom detection till demise is:\n",
      "NO           0.022445\n",
      "SE IGNORA   -0.018424\n",
      "SI          -0.015890\n",
      "dtype: float64\n"
     ]
    },
    {
     "data": {
      "image/png": "[encoded data removed]",
      "text/plain": [
       "<Figure size 432x288 with 1 Axes>"
      ]
     },
     "metadata": {
      "needs_background": "light"
     },
     "output_type": "display_data"
    }
   ],
   "source": [
    "df_out.boxplot(column=\"Sintomas a Defuncion\", by=\"INMUSUPR\")\n",
    "s_corr_u = df_out[\"INMUSUPR\"].str.get_dummies().corrwith(df_out[\"Sintomas a Defuncion\"])\n",
    "print(\"The correlation between the patient's  Inmunosupressed disease and the time from sympthom detection till demise is:\")\n",
    "print(s_corr_u)"
   ]
  },
  {
   "cell_type": "code",
   "execution_count": 132,
   "metadata": {},
   "outputs": [
    {
     "name": "stdout",
     "output_type": "stream",
     "text": [
      "The correlation between the patient's  Inmunosupressed disease and the time from hospitalization till demise is:\n",
      "NO           0.012682\n",
      "SE IGNORA   -0.016959\n",
      "SI          -0.005807\n",
      "dtype: float64\n"
     ]
    },
    {
     "data": {
      "image/png": "[encoded data removed]",
      "text/plain": [
       "<Figure size 432x288 with 1 Axes>"
      ]
     },
     "metadata": {
      "needs_background": "light"
     },
     "output_type": "display_data"
    }
   ],
   "source": [
    "df_out.boxplot(column=\"Hospitalizacion a Defuncion\", by=\"INMUSUPR\")\n",
    "s_corr_uh = df_out[\"INMUSUPR\"].str.get_dummies().corrwith(df_out[\"Hospitalizacion a Defuncion\"])\n",
    "print(\"The correlation between the patient's  Inmunosupressed disease and the time from hospitalization till demise is:\")\n",
    "print(s_corr_uh)"
   ]
  },
  {
   "cell_type": "code",
   "execution_count": 133,
   "metadata": {},
   "outputs": [
    {
     "data": {
      "image/png": "[encoded data removed]",
      "text/plain": [
       "<Figure size 432x288 with 1 Axes>"
      ]
     },
     "metadata": {
      "needs_background": "light"
     },
     "output_type": "display_data"
    }
   ],
   "source": [
    "#avg_s2d = df_out[\"Sintomas a Defuncion\"]\n",
    "#avg_h2d = df_out[\"Hospitalizacion a Defuncion\"]\n",
    "#keys = df_out[\"Grupo de Edad\"].keys()\n",
    "#sint_avg = plt.plot(keys, avg_s2d, color=\"blue\", label=\"Sintomas a Defuncion\")\n",
    "#hosp_avg = plt.plot(keys, avg_h2d, color=\"green\", label=\"Hospitalizacion a Defuncion\")\n",
    "plt.hist(df_out[\"Sintomas a Defuncion\"])\n",
    "plt.xlabel(\"Sintomas a Defuncion - Dias\")\n",
    "plt.ylabel(\"Pacientes\")\n",
    "plt.show()"
   ]
  },
  {
   "cell_type": "code",
   "execution_count": 134,
   "metadata": {
    "scrolled": true
   },
   "outputs": [
    {
     "data": {
      "image/png": "[encoded data removed]",
      "text/plain": [
       "<Figure size 432x288 with 1 Axes>"
      ]
     },
     "metadata": {
      "needs_background": "light"
     },
     "output_type": "display_data"
    }
   ],
   "source": [
    "plt.hist(df_out[\"Hospitalizacion a Defuncion\"])\n",
    "plt.xlabel(\"Hospitalizacion a Defuncion - Dias\")\n",
    "plt.ylabel(\"Pacientes\")\n",
    "plt.show()"
   ]
  },
  {
   "cell_type": "code",
   "execution_count": 59,
   "metadata": {},
   "outputs": [
    {
     "data": {
      "text/plain": [
       "0.023748409740822256"
      ]
     },
     "execution_count": 59,
     "metadata": {},
     "output_type": "execute_result"
    }
   ],
   "source": [
    "sem_sad = st.sem(df_out[\"Hospitalizacion a Defuncion\"])\n",
    "sem_sad"
   ]
  },
  {
   "cell_type": "code",
   "execution_count": 140,
   "metadata": {},
   "outputs": [
    {
     "data": {
      "text/plain": [
       "0.028367990037543343"
      ]
     },
     "execution_count": 140,
     "metadata": {},
     "output_type": "execute_result"
    }
   ],
   "source": [
    "sem_sads = st.sem(df_out[\"Sintomas a Defuncion\"])\n",
    "sem_sads"
   ]
  },
  {
   "cell_type": "code",
   "execution_count": 137,
   "metadata": {
    "scrolled": true
   },
   "outputs": [
    {
     "data": {
      "image/png": "[encoded data removed]",
      "text/plain": [
       "<Figure size 432x288 with 2 Axes>"
      ]
     },
     "metadata": {
      "needs_background": "light"
     },
     "output_type": "display_data"
    }
   ],
   "source": [
    "corrMatrix = df_out.corr()\n",
    "sn.heatmap(corrMatrix, annot=True)\n",
    "plt.show()"
   ]
  },
  {
   "cell_type": "code",
   "execution_count": null,
   "metadata": {},
   "outputs": [],
   "source": []
  }
 ],
 "metadata": {
  "kernelspec": {
   "display_name": "Python [conda env:PythonData]",
   "language": "python",
   "name": "conda-env-PythonData-py"
  },
  "language_info": {
   "codemirror_mode": {
    "name": "ipython",
    "version": 3
   },
   "file_extension": ".py",
   "mimetype": "text/x-python",
   "name": "python",
   "nbconvert_exporter": "python",
   "pygments_lexer": "ipython3",
   "version": "3.6.10"
  }
 },
 "nbformat": 4,
 "nbformat_minor": 4
}
